{
  "cells": [
    {
      "cell_type": "markdown",
      "metadata": {
        "id": "view-in-github",
        "colab_type": "text"
      },
      "source": [
        "<a href=\"https://colab.research.google.com/github/lucprosa/dataeng-basic-course/blob/main/spark/examples/07-udf.ipynb\" target=\"_parent\"><img src=\"https://colab.research.google.com/assets/colab-badge.svg\" alt=\"Open In Colab\"/></a>"
      ]
    },
    {
      "cell_type": "markdown",
      "metadata": {
        "id": "WlN-UqJCq5Q_"
      },
      "source": [
        "<a href=\"https://colab.research.google.com/github/lucprosa/dataeng-basic-course/blob/main/spark/examples/07-udf.ipynb\" target=\"_parent\"><img src=\"https://colab.research.google.com/assets/colab-badge.svg\" alt=\"Open In Colab\"/></a>"
      ]
    },
    {
      "cell_type": "markdown",
      "metadata": {
        "id": "BOA_wQSmLd9z"
      },
      "source": [
        "# UDF\n",
        "### Performance gaps with UDF\n",
        "\n",
        "- Serialization and Deserialization: Data needs to be serialized and deserialized between the JVM and Python processes. This back-and-forth communication can introduce latency.\n",
        "- Single-threaded Execution: UDFs in PySpark are executed in a single thread, making them less efficient compared to the parallel execution capabilities of native Spark functions.\n",
        "- Lack of Optimization: Spark’s Catalyst optimizer does not optimize UDFs, leading to potentially inefficient execution plans.\n",
        "\n",
        "### When to use\n",
        "- Use UDFs for logic that is difficult to express with built-in Apache Spark functions. Built-in Apache Spark functions are optimized for distributed processing and generally offer better performance at scale. For more information, see Functions.\n",
        "\n",
        "- Databricks recommends UDFs for ad hoc queries, manual data cleansing, exploratory data analysis, and operations on small to medium-sized datasets. Common use cases for UDFs include data encryption and decryption, hashing, JSON parsing, and validation.\n",
        "\n",
        "- Use Apache Spark methods for operations on very large datasets and any workloads that are run regularly or continuously, including ETL jobs and streaming operations."
      ]
    },
    {
      "cell_type": "markdown",
      "metadata": {
        "id": "d9LeYFsPTjAb"
      },
      "source": [
        "# Setting up PySpark"
      ]
    },
    {
      "cell_type": "code",
      "execution_count": null,
      "metadata": {
        "id": "uYXeODL0T1fO"
      },
      "outputs": [],
      "source": [
        "%pip install pyspark"
      ]
    },
    {
      "cell_type": "code",
      "execution_count": null,
      "metadata": {
        "id": "637HFw00T3LP"
      },
      "outputs": [],
      "source": [
        "from pyspark.sql import SparkSession\n",
        "spark = SparkSession.builder.master('local').appName('Spark Course').config('spark.ui.port', '4050').getOrCreate()\n",
        "sc = spark.sparkContext"
      ]
    },
    {
      "cell_type": "markdown",
      "metadata": {
        "id": "tyR1PQGxq5RC"
      },
      "source": [
        "# UDF"
      ]
    },
    {
      "cell_type": "code",
      "execution_count": null,
      "metadata": {
        "id": "cJW8fERxq5RC"
      },
      "outputs": [],
      "source": [
        "# UDF examples\n",
        "\n",
        "from pyspark.sql.functions import udf\n",
        "from pyspark.sql.types import IntegerType\n",
        "\n",
        "slen = udf(lambda s: len(s), IntegerType())\n",
        "\n",
        "@udf\n",
        "def to_upper(s):\n",
        "    if s is not None:\n",
        "        return s.upper()\n",
        "\n",
        "@udf(returnType=IntegerType())\n",
        "def add_one(x):\n",
        "    if x is not None:\n",
        "        return x + 1\n",
        "\n",
        "df = spark.createDataFrame([(1, \"John Doe\", 21)], (\"id\", \"name\", \"age\"))\n",
        "df.select(slen(\"name\").alias(\"slen(name)\"), to_upper(\"name\"), add_one(\"age\")).show()"
      ]
    },
    {
      "cell_type": "code",
      "execution_count": null,
      "metadata": {
        "id": "7Er_akN6suUy"
      },
      "outputs": [],
      "source": [
        "# Preparing the data\n",
        "employee_data = [(\"101\", \"Chloe\", 3),\n",
        "            (\"102\", \"Paul\", 1),\n",
        "            (\"103\", \"John\", 1),\n",
        "            (\"104\", \"Lisa\", 2),\n",
        "            (\"105\", \"Evan\", 3),\n",
        "            (\"106\", \"Amy\", 3),\n",
        "            (\"107\", \"Jimmy\", 5)]\n",
        "\n",
        "employee_columns = [\"id\", \"name\", \"dpto\"]\n",
        "\n",
        "employee = sc.parallelize(employee_data).toDF(employee_columns)"
      ]
    },
    {
      "cell_type": "code",
      "execution_count": null,
      "metadata": {
        "id": "55CrjaQZs7Fm"
      },
      "outputs": [],
      "source": [
        "\n",
        "# Creating UDF to identify the employess that will be fired\n",
        "\n",
        "fired_employees = [\"John\", \"Lisa\", \"Evan\"]\n",
        "\n",
        "@udf\n",
        "def add_char_at_end(s, fired=fired_employees):\n",
        "  if s in fired:\n",
        "    return f\"{s}#FIRED\"\n",
        "  else:\n",
        "    return s\n",
        "\n",
        "employee.select(employee[\"*\"], add_char_at_end(\"name\").alias(\"additional_info\")).show()"
      ]
    },
    {
      "cell_type": "code",
      "execution_count": null,
      "metadata": {
        "id": "yqYB0iRtyfi9"
      },
      "outputs": [],
      "source": [
        "# Can be used in SQL\n",
        "\n",
        "slen = udf(lambda s: len(s), IntegerType())\n",
        "spark.udf.register(\"slen\", slen)\n",
        "\n",
        "qry2 = \"\"\"SELECT slen(\"Data Engineering Course\") AS length\"\"\"\n",
        "\n",
        "spark.sql(qry2).show()"
      ]
    },
    {
      "cell_type": "markdown",
      "source": [
        "# Question"
      ],
      "metadata": {
        "id": "vGrxQ-jbHVF9"
      }
    },
    {
      "cell_type": "code",
      "execution_count": null,
      "metadata": {
        "id": "dMaASP-rxwTp"
      },
      "outputs": [],
      "source": [
        "# Q1\n",
        "# Create an UDF to add the department name to the dataset based on dpto id\n",
        "# mapping: {1: \"Marketing\", 2: \"Sales\", 3: \"HR\", 4: \"Finance\", 5: \"IT\"}"
      ]
    }
  ],
  "metadata": {
    "colab": {
      "provenance": [],
      "include_colab_link": true
    },
    "kernelspec": {
      "display_name": "Python 3",
      "name": "python3"
    },
    "language_info": {
      "name": "python"
    }
  },
  "nbformat": 4,
  "nbformat_minor": 0
}