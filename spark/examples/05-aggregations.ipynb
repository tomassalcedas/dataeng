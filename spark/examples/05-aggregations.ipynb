{
  "cells": [
    {
      "cell_type": "markdown",
      "metadata": {
        "id": "view-in-github",
        "colab_type": "text"
      },
      "source": [
        "<a href=\"https://colab.research.google.com/github/tomassalcedas/dataeng/blob/main/spark/examples/05-aggregations.ipynb\" target=\"_parent\"><img src=\"https://colab.research.google.com/assets/colab-badge.svg\" alt=\"Open In Colab\"/></a>"
      ]
    },
    {
      "cell_type": "markdown",
      "metadata": {
        "id": "-y331t1OSI1s"
      },
      "source": [
        "<a href=\"https://colab.research.google.com/github/lucprosa/dataeng-basic-course/blob/main/spark/examples/05-aggregations.ipynb\" target=\"_parent\"><img src=\"https://colab.research.google.com/assets/colab-badge.svg\" alt=\"Open In Colab\"/></a>"
      ]
    },
    {
      "cell_type": "code",
      "source": [
        "from google.colab import drive\n",
        "drive.mount('/content/drive')"
      ],
      "metadata": {
        "colab": {
          "base_uri": "https://localhost:8080/"
        },
        "id": "kQUWb3uCp6Xq",
        "outputId": "19f072cf-b353-46da-afdd-41cb8a980171"
      },
      "execution_count": 1,
      "outputs": [
        {
          "output_type": "stream",
          "name": "stdout",
          "text": [
            "Mounted at /content/drive\n"
          ]
        }
      ]
    },
    {
      "cell_type": "markdown",
      "metadata": {
        "id": "BOA_wQSmLd9z"
      },
      "source": [
        "# Aggregations\n",
        "- Group By\n",
        "- Windows Functions"
      ]
    },
    {
      "cell_type": "markdown",
      "metadata": {
        "id": "d9LeYFsPTjAb"
      },
      "source": [
        "# Setting up PySpark"
      ]
    },
    {
      "cell_type": "code",
      "execution_count": 2,
      "metadata": {
        "id": "uYXeODL0T1fO",
        "colab": {
          "base_uri": "https://localhost:8080/"
        },
        "outputId": "a1cefa41-f873-4b55-c744-12ae48c5ec04"
      },
      "outputs": [
        {
          "output_type": "stream",
          "name": "stdout",
          "text": [
            "Requirement already satisfied: pyspark in /usr/local/lib/python3.11/dist-packages (3.5.1)\n",
            "Requirement already satisfied: py4j==0.10.9.7 in /usr/local/lib/python3.11/dist-packages (from pyspark) (0.10.9.7)\n"
          ]
        }
      ],
      "source": [
        "%pip install pyspark"
      ]
    },
    {
      "cell_type": "code",
      "execution_count": 3,
      "metadata": {
        "id": "637HFw00T3LP"
      },
      "outputs": [],
      "source": [
        "from pyspark.sql import SparkSession\n",
        "spark = SparkSession.builder.master('local').appName('Spark Course').config('spark.ui.port', '4050').getOrCreate()"
      ]
    },
    {
      "cell_type": "markdown",
      "metadata": {
        "id": "SLiYPwuJSI1w"
      },
      "source": [
        "# Aggregations\n",
        "\n",
        "https://spark.apache.org/docs/latest/sql-ref-functions-builtin.html#aggregate-functions\n",
        "\n",
        "https://spark.apache.org/docs/latest/sql-ref-syntax-qry-select-aggregate.html"
      ]
    },
    {
      "cell_type": "code",
      "execution_count": 19,
      "metadata": {
        "id": "GPdtlX5BSI1w",
        "colab": {
          "base_uri": "https://localhost:8080/"
        },
        "outputId": "1ce5ebbe-456a-474c-caf2-313360ef1ee0"
      },
      "outputs": [
        {
          "output_type": "stream",
          "name": "stdout",
          "text": [
            "+-----------------+----------+------+\n",
            "|    employee_name|department|salary|\n",
            "+-----------------+----------+------+\n",
            "|     Diane Murphy|Accounting|  8435|\n",
            "|   Mary Patterson|Accounting|  9998|\n",
            "|    Jeff Firrelli|Accounting|  8992|\n",
            "|William Patterson|Accounting|  8870|\n",
            "|    Gerard Bondur|Accounting| 11472|\n",
            "|      Anthony Bow|Accounting|  6627|\n",
            "|  Leslie Jennings|        IT|  8113|\n",
            "|  Leslie Thompson|        IT|  5186|\n",
            "|   Julie Firrelli|     Sales|  9181|\n",
            "|  Steve Patterson|     Sales|  9441|\n",
            "|   Foon Yue Tseng|     Sales|  6660|\n",
            "|    George Vanauf|     Sales| 10563|\n",
            "|      Loui Bondur|       SCM| 10449|\n",
            "| Gerard Hernandez|       SCM|  6949|\n",
            "|  Pamela Castillo|       SCM| 11303|\n",
            "|       Larry Bott|       SCM| 11798|\n",
            "|      Barry Jones|       SCM| 10586|\n",
            "+-----------------+----------+------+\n",
            "\n"
          ]
        }
      ],
      "source": [
        "sql_query = \"\"\"CREATE OR REPLACE TEMPORARY VIEW basic_pays AS SELECT * FROM VALUES\n",
        "('Diane Murphy','Accounting',8435),\n",
        "('Mary Patterson','Accounting',9998),\n",
        "('Jeff Firrelli','Accounting',8992),\n",
        "('William Patterson','Accounting',8870),\n",
        "('Gerard Bondur','Accounting',11472),\n",
        "('Anthony Bow','Accounting',6627),\n",
        "('Leslie Jennings','IT',8113),\n",
        "('Leslie Thompson','IT',5186),\n",
        "('Julie Firrelli','Sales',9181),\n",
        "('Steve Patterson','Sales',9441),\n",
        "('Foon Yue Tseng','Sales',6660),\n",
        "('George Vanauf','Sales',10563),\n",
        "('Loui Bondur','SCM',10449),\n",
        "('Gerard Hernandez','SCM',6949),\n",
        "('Pamela Castillo','SCM',11303),\n",
        "('Larry Bott','SCM',11798),\n",
        "('Barry Jones','SCM',10586)\n",
        "AS basic_pays(employee_name, department, salary)\"\"\"\n",
        "\n",
        "# creating temp view\n",
        "spark.sql(sql_query)\n",
        "\n",
        "df = spark.table(\"basic_pays\")\n",
        "df.show()\n"
      ]
    },
    {
      "cell_type": "code",
      "source": [
        "perc_query = \"\"\"SELECT\n",
        "    department,\n",
        "    percentile_cont(0.25) WITHIN GROUP (ORDER BY salary) AS pc1,\n",
        "    percentile_cont(0.25) WITHIN GROUP (ORDER BY salary) FILTER (WHERE employee_name LIKE '%Bo%') AS pc2,\n",
        "    percentile_cont(0.25) WITHIN GROUP (ORDER BY salary DESC) AS pc3,\n",
        "    percentile_cont(0.25) WITHIN GROUP (ORDER BY salary DESC) FILTER (WHERE employee_name LIKE '%Bo%') AS pc4,\n",
        "    percentile_disc(0.25) WITHIN GROUP (ORDER BY salary) AS pd1,\n",
        "    percentile_disc(0.25) WITHIN GROUP (ORDER BY salary) FILTER (WHERE employee_name LIKE '%Bo%') AS pd2,\n",
        "    percentile_disc(0.25) WITHIN GROUP (ORDER BY salary DESC) AS pd3,\n",
        "    percentile_disc(0.25) WITHIN GROUP (ORDER BY salary DESC) FILTER (WHERE employee_name LIKE '%Bo%') AS pd4\n",
        "FROM basic_pays\n",
        "GROUP BY department\n",
        "ORDER BY department;\"\"\"\n",
        "\n",
        "spark.sql(perc_query).show()"
      ],
      "metadata": {
        "id": "Aa38HFEQVSM9",
        "colab": {
          "base_uri": "https://localhost:8080/"
        },
        "outputId": "5b16d950-ccd1-4c24-d433-14c5f21735ef"
      },
      "execution_count": 20,
      "outputs": [
        {
          "output_type": "stream",
          "name": "stdout",
          "text": [
            "+----------+-------+--------+-------+--------+-------+-------+-------+-------+\n",
            "|department|    pc1|     pc2|    pc3|     pc4|    pd1|    pd2|    pd3|    pd4|\n",
            "+----------+-------+--------+-------+--------+-------+-------+-------+-------+\n",
            "|Accounting|8543.75| 7838.25| 9746.5|10260.75| 8435.0| 6627.0| 9998.0|11472.0|\n",
            "|        IT|5917.75|    NULL|7381.25|    NULL| 5186.0|   NULL| 8113.0|   NULL|\n",
            "|       SCM|10449.0|10786.25|11303.0|11460.75|10449.0|10449.0|11303.0|11798.0|\n",
            "|     Sales|8550.75|    NULL| 9721.5|    NULL| 6660.0|   NULL|10563.0|   NULL|\n",
            "+----------+-------+--------+-------+--------+-------+-------+-------+-------+\n",
            "\n"
          ]
        }
      ]
    },
    {
      "cell_type": "code",
      "source": [
        "from pyspark.sql.functions import *\n",
        "(df\n",
        " .groupBy(\"department\")\n",
        " .agg(sum(\"salary\").alias(\"sum_salary\"),\n",
        "      round(avg(\"salary\"),2).alias(\"avg_salary\"),\n",
        "      min(\"salary\").alias(\"min_salary\"),\n",
        "      array_agg(\"employee_name\").alias(\"employees\"),\n",
        "      count(lit(\"\")).alias(\"count_employees\"))\n",
        " .filter(col(\"count_employees\") > 2)\n",
        " .show(10, False))"
      ],
      "metadata": {
        "id": "ZbfHHI_wYJge",
        "colab": {
          "base_uri": "https://localhost:8080/"
        },
        "outputId": "402392b7-29eb-4602-ef84-aa007ddde361"
      },
      "execution_count": 21,
      "outputs": [
        {
          "output_type": "stream",
          "name": "stdout",
          "text": [
            "+----------+----------+----------+----------+--------------------------------------------------------------------------------------------+---------------+\n",
            "|department|sum_salary|avg_salary|min_salary|employees                                                                                   |count_employees|\n",
            "+----------+----------+----------+----------+--------------------------------------------------------------------------------------------+---------------+\n",
            "|Sales     |35845     |8961.25   |6660      |[Julie Firrelli, Steve Patterson, Foon Yue Tseng, George Vanauf]                            |4              |\n",
            "|Accounting|54394     |9065.67   |6627      |[Diane Murphy, Mary Patterson, Jeff Firrelli, William Patterson, Gerard Bondur, Anthony Bow]|6              |\n",
            "|SCM       |51085     |10217.0   |6949      |[Loui Bondur, Gerard Hernandez, Pamela Castillo, Larry Bott, Barry Jones]                   |5              |\n",
            "+----------+----------+----------+----------+--------------------------------------------------------------------------------------------+---------------+\n",
            "\n"
          ]
        }
      ]
    },
    {
      "cell_type": "markdown",
      "source": [
        "# Question"
      ],
      "metadata": {
        "id": "HQjSVZgFbiUs"
      }
    },
    {
      "cell_type": "code",
      "source": [
        "# Q1\n",
        "# Aggregate data by surname\n",
        "# Calculate highest salary by surname\n",
        "# Include the respective employee that has the highest salary\n",
        "# Include department information about this employee\n",
        "# Count how many employees has that surname\n",
        "# Put in an array all the first_names of the respective surname ordered\n",
        "\n",
        "\n",
        "# schema expected:\n",
        "# surname | count_employees | highest_salary | employee_with_highest_salary | department_with_highest_salary | array_with_all_the_first_names |"
      ],
      "metadata": {
        "id": "sAB_dzZabf_o"
      },
      "execution_count": null,
      "outputs": []
    },
    {
      "cell_type": "code",
      "source": [
        "from pyspark.sql.functions import *\n",
        "\n",
        "df = (df.withColumn(\"surname\", split(col(\"employee_name\"), \" \").getItem(1))\n",
        "      .withColumn(\"first_name\", split(col(\"employee_name\"), \" \").getItem(0)))\n",
        "\n",
        "df.show()"
      ],
      "metadata": {
        "id": "-aQUM27suePK",
        "outputId": "8752b586-8234-40b7-ed22-ae95e7b637ab",
        "colab": {
          "base_uri": "https://localhost:8080/"
        }
      },
      "execution_count": 25,
      "outputs": [
        {
          "output_type": "stream",
          "name": "stdout",
          "text": [
            "+-----------------+----------+------+---------+---+----------+\n",
            "|    employee_name|department|salary|  surname| rn|first_name|\n",
            "+-----------------+----------+------+---------+---+----------+\n",
            "|    Gerard Bondur|Accounting| 11472|   Bondur|  1|    Gerard|\n",
            "|      Loui Bondur|       SCM| 10449|   Bondur|  2|      Loui|\n",
            "|       Larry Bott|       SCM| 11798|     Bott|  1|     Larry|\n",
            "|      Anthony Bow|Accounting|  6627|      Bow|  1|   Anthony|\n",
            "|  Pamela Castillo|       SCM| 11303| Castillo|  1|    Pamela|\n",
            "|   Julie Firrelli|     Sales|  9181| Firrelli|  1|     Julie|\n",
            "|    Jeff Firrelli|Accounting|  8992| Firrelli|  2|      Jeff|\n",
            "| Gerard Hernandez|       SCM|  6949|Hernandez|  1|    Gerard|\n",
            "|  Leslie Jennings|        IT|  8113| Jennings|  1|    Leslie|\n",
            "|      Barry Jones|       SCM| 10586|    Jones|  1|     Barry|\n",
            "|     Diane Murphy|Accounting|  8435|   Murphy|  1|     Diane|\n",
            "|   Mary Patterson|Accounting|  9998|Patterson|  1|      Mary|\n",
            "|  Steve Patterson|     Sales|  9441|Patterson|  2|     Steve|\n",
            "|William Patterson|Accounting|  8870|Patterson|  3|   William|\n",
            "|  Leslie Thompson|        IT|  5186| Thompson|  1|    Leslie|\n",
            "|    George Vanauf|     Sales| 10563|   Vanauf|  1|    George|\n",
            "|   Foon Yue Tseng|     Sales|  6660|      Yue|  1|      Foon|\n",
            "+-----------------+----------+------+---------+---+----------+\n",
            "\n"
          ]
        }
      ]
    },
    {
      "cell_type": "code",
      "source": [
        "from pyspark.sql.window import Window\n",
        "from pyspark.sql.functions import row_number, desc, asc\n",
        "\n",
        "w = Window.partitionBy(\"surname\").orderBy(desc(\"salary\"), asc(\"employee_name\"))\n",
        "\n",
        "df = df.withColumn(\"rn\", row_number().over(w))\n",
        "df.show()"
      ],
      "metadata": {
        "id": "DdKkJ-jsv-sf",
        "outputId": "469fa3c9-f723-45dd-cd50-a5b5fdeaad57",
        "colab": {
          "base_uri": "https://localhost:8080/"
        }
      },
      "execution_count": 26,
      "outputs": [
        {
          "output_type": "stream",
          "name": "stdout",
          "text": [
            "+-----------------+----------+------+---------+---+----------+\n",
            "|    employee_name|department|salary|  surname| rn|first_name|\n",
            "+-----------------+----------+------+---------+---+----------+\n",
            "|    Gerard Bondur|Accounting| 11472|   Bondur|  1|    Gerard|\n",
            "|      Loui Bondur|       SCM| 10449|   Bondur|  2|      Loui|\n",
            "|       Larry Bott|       SCM| 11798|     Bott|  1|     Larry|\n",
            "|      Anthony Bow|Accounting|  6627|      Bow|  1|   Anthony|\n",
            "|  Pamela Castillo|       SCM| 11303| Castillo|  1|    Pamela|\n",
            "|   Julie Firrelli|     Sales|  9181| Firrelli|  1|     Julie|\n",
            "|    Jeff Firrelli|Accounting|  8992| Firrelli|  2|      Jeff|\n",
            "| Gerard Hernandez|       SCM|  6949|Hernandez|  1|    Gerard|\n",
            "|  Leslie Jennings|        IT|  8113| Jennings|  1|    Leslie|\n",
            "|      Barry Jones|       SCM| 10586|    Jones|  1|     Barry|\n",
            "|     Diane Murphy|Accounting|  8435|   Murphy|  1|     Diane|\n",
            "|   Mary Patterson|Accounting|  9998|Patterson|  1|      Mary|\n",
            "|  Steve Patterson|     Sales|  9441|Patterson|  2|     Steve|\n",
            "|William Patterson|Accounting|  8870|Patterson|  3|   William|\n",
            "|  Leslie Thompson|        IT|  5186| Thompson|  1|    Leslie|\n",
            "|    George Vanauf|     Sales| 10563|   Vanauf|  1|    George|\n",
            "|   Foon Yue Tseng|     Sales|  6660|      Yue|  1|      Foon|\n",
            "+-----------------+----------+------+---------+---+----------+\n",
            "\n"
          ]
        }
      ]
    },
    {
      "cell_type": "code",
      "source": [
        "from pyspark.sql.functions import count, max, collect_list, array_sort\n",
        "\n",
        "agg = (\n",
        "    df.groupBy(\"surname\")\n",
        "      .agg(\n",
        "          count(\"*\").alias(\"count_employees\"),\n",
        "          max(\"salary\").alias(\"highest_salary\"),\n",
        "          array_sort(collect_list(\"first_name\")).alias(\"array_with_all_the_first_names\")\n",
        "      )\n",
        ")\n",
        "agg.show()"
      ],
      "metadata": {
        "id": "5PcCnNUoxfhb",
        "outputId": "74d7aa9c-26be-40dc-a2c5-dfcb7f40b9a4",
        "colab": {
          "base_uri": "https://localhost:8080/"
        }
      },
      "execution_count": 27,
      "outputs": [
        {
          "output_type": "stream",
          "name": "stdout",
          "text": [
            "+---------+---------------+--------------+------------------------------+\n",
            "|  surname|count_employees|highest_salary|array_with_all_the_first_names|\n",
            "+---------+---------------+--------------+------------------------------+\n",
            "|      Bow|              1|          6627|                     [Anthony]|\n",
            "|    Jones|              1|         10586|                       [Barry]|\n",
            "|   Bondur|              2|         11472|                [Gerard, Loui]|\n",
            "|   Murphy|              1|          8435|                       [Diane]|\n",
            "| Castillo|              1|         11303|                      [Pamela]|\n",
            "| Firrelli|              2|          9181|                 [Jeff, Julie]|\n",
            "|   Vanauf|              1|         10563|                      [George]|\n",
            "|      Yue|              1|          6660|                        [Foon]|\n",
            "|Patterson|              3|          9998|          [Mary, Steve, Wil...|\n",
            "| Thompson|              1|          5186|                      [Leslie]|\n",
            "| Jennings|              1|          8113|                      [Leslie]|\n",
            "|     Bott|              1|         11798|                       [Larry]|\n",
            "|Hernandez|              1|          6949|                      [Gerard]|\n",
            "+---------+---------------+--------------+------------------------------+\n",
            "\n"
          ]
        }
      ]
    },
    {
      "cell_type": "code",
      "source": [
        "top_emp = (\n",
        "    df.filter(col(\"rn\") == 1)\n",
        "      .select(\n",
        "          \"surname\",\n",
        "          col(\"employee_name\").alias(\"employee_with_highest_salary\"),\n",
        "          col(\"department\").alias(\"department_with_highest_salary\")\n",
        "      )\n",
        ")"
      ],
      "metadata": {
        "id": "c7YwQN-Xx4yG"
      },
      "execution_count": 28,
      "outputs": []
    },
    {
      "cell_type": "code",
      "source": [
        "result = (\n",
        "    agg.join(top_emp, \"surname\", \"left\")\n",
        "       .select(\n",
        "           \"surname\",\n",
        "           \"count_employees\",\n",
        "           \"highest_salary\",\n",
        "           \"employee_with_highest_salary\",\n",
        "           \"department_with_highest_salary\",\n",
        "           \"array_with_all_the_first_names\"\n",
        "       )\n",
        ")\n",
        "\n",
        "result.show(truncate=False)"
      ],
      "metadata": {
        "id": "-v-Fg9pLyOAS",
        "outputId": "90fe14c5-4ec3-4285-d757-db8f5530eee8",
        "colab": {
          "base_uri": "https://localhost:8080/"
        }
      },
      "execution_count": 29,
      "outputs": [
        {
          "output_type": "stream",
          "name": "stdout",
          "text": [
            "+---------+---------------+--------------+----------------------------+------------------------------+------------------------------+\n",
            "|surname  |count_employees|highest_salary|employee_with_highest_salary|department_with_highest_salary|array_with_all_the_first_names|\n",
            "+---------+---------------+--------------+----------------------------+------------------------------+------------------------------+\n",
            "|Bow      |1              |6627          |Anthony Bow                 |Accounting                    |[Anthony]                     |\n",
            "|Jones    |1              |10586         |Barry Jones                 |SCM                           |[Barry]                       |\n",
            "|Bondur   |2              |11472         |Gerard Bondur               |Accounting                    |[Gerard, Loui]                |\n",
            "|Murphy   |1              |8435          |Diane Murphy                |Accounting                    |[Diane]                       |\n",
            "|Castillo |1              |11303         |Pamela Castillo             |SCM                           |[Pamela]                      |\n",
            "|Firrelli |2              |9181          |Julie Firrelli              |Sales                         |[Jeff, Julie]                 |\n",
            "|Vanauf   |1              |10563         |George Vanauf               |Sales                         |[George]                      |\n",
            "|Yue      |1              |6660          |Foon Yue Tseng              |Sales                         |[Foon]                        |\n",
            "|Patterson|3              |9998          |Mary Patterson              |Accounting                    |[Mary, Steve, William]        |\n",
            "|Thompson |1              |5186          |Leslie Thompson             |IT                            |[Leslie]                      |\n",
            "|Jennings |1              |8113          |Leslie Jennings             |IT                            |[Leslie]                      |\n",
            "|Bott     |1              |11798         |Larry Bott                  |SCM                           |[Larry]                       |\n",
            "|Hernandez|1              |6949          |Gerard Hernandez            |SCM                           |[Gerard]                      |\n",
            "+---------+---------------+--------------+----------------------------+------------------------------+------------------------------+\n",
            "\n"
          ]
        }
      ]
    },
    {
      "cell_type": "code",
      "source": [],
      "metadata": {
        "id": "OEkGevGPz5mA"
      },
      "execution_count": null,
      "outputs": []
    }
  ],
  "metadata": {
    "colab": {
      "provenance": [],
      "include_colab_link": true
    },
    "kernelspec": {
      "display_name": "Python 3",
      "name": "python3"
    },
    "language_info": {
      "name": "python"
    }
  },
  "nbformat": 4,
  "nbformat_minor": 0
}