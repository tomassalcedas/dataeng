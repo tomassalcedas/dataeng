{
  "cells": [
    {
      "cell_type": "markdown",
      "metadata": {
        "id": "4M10EVsXFrd_"
      },
      "source": [
        "<a href=\"https://colab.research.google.com/github/lucprosa/dataeng-basic-course/blob/main/spark/examples/04-joins.ipynb\" target=\"_parent\"><img src=\"https://colab.research.google.com/assets/colab-badge.svg\" alt=\"Open In Colab\"/></a>"
      ]
    },
    {
      "cell_type": "markdown",
      "metadata": {
        "id": "BOA_wQSmLd9z"
      },
      "source": [
        "# Joins\n",
        "- inner join\n",
        "- left/right join\n",
        "- full join\n",
        "- left anti join\n",
        "- cartesian product\n",
        "- union/unionAll\n",
        "- minus\n",
        "- intersect"
      ]
    },
    {
      "cell_type": "markdown",
      "metadata": {
        "id": "d9LeYFsPTjAb"
      },
      "source": [
        "# Setting up PySpark"
      ]
    },
    {
      "cell_type": "code",
      "execution_count": null,
      "metadata": {
        "id": "uYXeODL0T1fO"
      },
      "outputs": [],
      "source": [
        "%pip install pyspark"
      ]
    },
    {
      "cell_type": "code",
      "execution_count": null,
      "metadata": {
        "id": "637HFw00T3LP"
      },
      "outputs": [],
      "source": [
        "from pyspark.sql import SparkSession\n",
        "spark = SparkSession.builder.master('local').appName('Spark Course').config('spark.ui.port', '4050').getOrCreate()\n",
        "sc = spark.sparkContext"
      ]
    },
    {
      "cell_type": "code",
      "source": [
        "employee_data = [(\"101\", \"Chloe\", 3),\n",
        "            (\"102\", \"Paul\", 1),\n",
        "            (\"103\", \"John\", 1),\n",
        "            (\"104\", \"Lisa\", 2),\n",
        "            (\"105\", \"Evan\", 3),\n",
        "            (\"106\", \"Amy\", 3),\n",
        "            (\"107\", \"Jimmy\", 5)]\n",
        "dpto_data = [(\"1\", \"Engineering\"), (\"2\", \"Sales\"), (\"3\", \"Marketing\"), (\"4\", \"Finance\")]\n",
        "\n",
        "employee_columns = [\"id\", \"name\", \"dpto\"]\n",
        "dpto_columns = [\"dpto\", \"deptname\"]\n",
        "\n",
        "employee = sc.parallelize(employee_data).toDF(employee_columns)\n",
        "dpto = sc.parallelize(dpto_data).toDF(dpto_columns)"
      ],
      "metadata": {
        "id": "Us_jgkYJIhcT"
      },
      "execution_count": null,
      "outputs": []
    },
    {
      "cell_type": "code",
      "source": [
        "# Employee's dtaframe\n",
        "employee.show()"
      ],
      "metadata": {
        "id": "qudxqOymJj-s"
      },
      "execution_count": null,
      "outputs": []
    },
    {
      "cell_type": "code",
      "source": [
        "# Department's dtaframe\n",
        "dpto.show()"
      ],
      "metadata": {
        "id": "RXHcXZIPLfhZ"
      },
      "execution_count": null,
      "outputs": []
    },
    {
      "cell_type": "markdown",
      "metadata": {
        "id": "a7dhl2LPFreE"
      },
      "source": [
        "# Joins"
      ]
    },
    {
      "cell_type": "code",
      "execution_count": null,
      "metadata": {
        "id": "3isk0KvuFreE"
      },
      "outputs": [],
      "source": [
        "# Inner join - exists on both sides\n",
        "employee.join(dpto, [\"dpto\"]).show()\n",
        "# or\n",
        "employee.join(dpto, employee[\"dpto\"] == dpto[\"dpto\"], how = \"inner\").show()"
      ]
    },
    {
      "cell_type": "code",
      "source": [
        "# Left join - bring everything from the left side + what exists on right side\n",
        "\n",
        "employee.join(dpto, employee[\"dpto\"] == dpto[\"dpto\"], how = \"left\").show()"
      ],
      "metadata": {
        "id": "7kH24QHgL9NE"
      },
      "execution_count": null,
      "outputs": []
    },
    {
      "cell_type": "code",
      "source": [
        "# Right join - bring everything from the right side + what exists on left side\n",
        "\n",
        "employee.join(dpto, employee[\"dpto\"] == dpto[\"dpto\"], how = \"right\").show()"
      ],
      "metadata": {
        "id": "0DvT6UdyM_0h"
      },
      "execution_count": null,
      "outputs": []
    },
    {
      "cell_type": "code",
      "source": [
        "# Full join - bring everything from both side\n",
        "\n",
        "employee.join(dpto, employee[\"dpto\"] == dpto[\"dpto\"], how = \"full\").show()"
      ],
      "metadata": {
        "id": "cD5qkGyDNecI"
      },
      "execution_count": null,
      "outputs": []
    },
    {
      "cell_type": "code",
      "source": [
        "# left Anti Join - Bring everything from the left that don´t exist on the right\n",
        "employee.join(dpto, employee[\"dpto\"] == dpto[\"dpto\"], how = \"left_anti\").show()\n",
        "\n",
        "# right Anti Join - Bring everything from the right that don´t exist on the left\n",
        "dpto.join(employee, employee[\"dpto\"] == dpto[\"dpto\"], how = \"left_anti\").show()"
      ],
      "metadata": {
        "id": "eg4IpMjJNkzP"
      },
      "execution_count": null,
      "outputs": []
    },
    {
      "cell_type": "markdown",
      "source": [
        "### Using SQL"
      ],
      "metadata": {
        "id": "37RxTSWRQLY9"
      }
    },
    {
      "cell_type": "code",
      "source": [
        "employee.createOrReplaceTempView(\"employee\")\n",
        "dpto.createOrReplaceTempView(\"dpto\")\n",
        "\n",
        "# bring all the employees with or without department\n",
        "spark.sql(\"select * from employee left join dpto using (dpto)\").show()"
      ],
      "metadata": {
        "id": "sWmJ_CmZQExG"
      },
      "execution_count": null,
      "outputs": []
    },
    {
      "cell_type": "markdown",
      "source": [
        "# Union / Minus / Intersect"
      ],
      "metadata": {
        "id": "SLbibB0-Uhap"
      }
    },
    {
      "cell_type": "code",
      "source": [
        "employee_hr = employee\n",
        "\n",
        "data = [(200, \"George\", 5), (201, \"Anna\", 5), (202, \"Carl\", 3), (101, \"Chloe\", 3), (103, \"John\", 1), (106, \"Amy\", 1)]\n",
        "employee_erp = spark.createDataFrame(data, schema=[\"id\", \"name\", \"dpto\"])\n",
        "\n",
        "print(\"HR database\")\n",
        "employee_hr.show()\n",
        "\n",
        "print(\"ERP database\")\n",
        "employee_erp.show()"
      ],
      "metadata": {
        "id": "1Kv63IAYUmJy"
      },
      "execution_count": null,
      "outputs": []
    },
    {
      "cell_type": "code",
      "source": [
        "# union / unionByName\n",
        "print(\"Combine both dataframes\")\n",
        "employee_hr.unionByName(employee_erp).show() # union, unionAll\n",
        "\n",
        "print(\"Get values that are common in both dataframes\")\n",
        "employee_hr.intersect(employee_erp).show()\n",
        "\n",
        "print(\"Get only the difference - does not exist on the second dataframe\")\n",
        "employee_hr.exceptAll(employee_erp).show()"
      ],
      "metadata": {
        "id": "61QkSnA7WjI8"
      },
      "execution_count": null,
      "outputs": []
    },
    {
      "cell_type": "markdown",
      "source": [
        "# Questions"
      ],
      "metadata": {
        "id": "E_enboWOQF3x"
      }
    },
    {
      "cell_type": "code",
      "source": [
        "# Q1\n",
        "# Implement Cartesian Product using dataframe and SQL\n",
        "# Use employee and dpto"
      ],
      "metadata": {
        "id": "-SDXliPvNtnr"
      },
      "execution_count": null,
      "outputs": []
    },
    {
      "cell_type": "code",
      "source": [
        "# Q2\n",
        "# Implement \"Left Anti Join\" using SQL\n",
        "# Use employee and dpto"
      ],
      "metadata": {
        "id": "EjiSSK6HOsGS"
      },
      "execution_count": null,
      "outputs": []
    }
  ],
  "metadata": {
    "colab": {
      "provenance": []
    },
    "kernelspec": {
      "display_name": "Python 3",
      "name": "python3"
    },
    "language_info": {
      "name": "python"
    }
  },
  "nbformat": 4,
  "nbformat_minor": 0
}