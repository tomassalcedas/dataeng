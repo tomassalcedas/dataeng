{
  "cells": [
    {
      "cell_type": "markdown",
      "metadata": {
        "id": "view-in-github",
        "colab_type": "text"
      },
      "source": [
        "<a href=\"https://colab.research.google.com/github/tomassalcedas/dataeng/blob/main/spark/examples/06-write_partitioning.ipynb\" target=\"_parent\"><img src=\"https://colab.research.google.com/assets/colab-badge.svg\" alt=\"Open In Colab\"/></a>"
      ]
    },
    {
      "cell_type": "markdown",
      "metadata": {
        "id": "BOA_wQSmLd9z"
      },
      "source": [
        "# Write\n",
        "- .write\n",
        "- .format (parquet, csv, json)\n",
        "- options\n",
        "- spark.sql.sources.partitionOverwriteMode dynamic\n",
        "\n",
        "# Write Mode\n",
        "- overwrite - The overwrite mode is used to overwrite the existing file, alternatively, you can use SaveMode.Overwrite\n",
        "- append - To add the data to the existing file, alternatively, you can use SaveMode.Append\n",
        "- ignore - Ignores write operation when the file already exists, alternatively, you can use SaveMode.Ignore.\n",
        "- errorifexists or error - This is a default option when the file already exists, it returns an error, alternatively, you can use SaveMode.ErrorIfExists.\n",
        "\n",
        "# Partitioning\n",
        "Process to organize the data into multiple chunks based on some criteria.\n",
        "Partitions are organized in sub-folders.\n",
        "Partitioning improves performance in Spark."
      ]
    },
    {
      "cell_type": "code",
      "source": [
        "from google.colab import drive\n",
        "drive.mount('/content/drive')"
      ],
      "metadata": {
        "id": "yt4hHI8y0Qe_",
        "outputId": "a457b753-ce49-4ab8-9e51-e811b442f471",
        "colab": {
          "base_uri": "https://localhost:8080/"
        }
      },
      "execution_count": 1,
      "outputs": [
        {
          "output_type": "stream",
          "name": "stdout",
          "text": [
            "Mounted at /content/drive\n"
          ]
        }
      ]
    },
    {
      "cell_type": "markdown",
      "metadata": {
        "id": "d9LeYFsPTjAb"
      },
      "source": [
        "# Setting up PySpark"
      ]
    },
    {
      "cell_type": "code",
      "execution_count": 2,
      "metadata": {
        "id": "uYXeODL0T1fO",
        "outputId": "6fcb028a-a131-44e6-e65e-e23d13657f8c",
        "colab": {
          "base_uri": "https://localhost:8080/"
        }
      },
      "outputs": [
        {
          "output_type": "stream",
          "name": "stdout",
          "text": [
            "Requirement already satisfied: pyspark in /usr/local/lib/python3.11/dist-packages (3.5.1)\n",
            "Requirement already satisfied: py4j==0.10.9.7 in /usr/local/lib/python3.11/dist-packages (from pyspark) (0.10.9.7)\n"
          ]
        }
      ],
      "source": [
        "%pip install pyspark"
      ]
    },
    {
      "cell_type": "code",
      "execution_count": 3,
      "metadata": {
        "id": "637HFw00T3LP"
      },
      "outputs": [],
      "source": [
        "from pyspark.sql import SparkSession\n",
        "spark = SparkSession.builder.master('local').appName('Spark Course').getOrCreate()"
      ]
    },
    {
      "cell_type": "markdown",
      "metadata": {
        "id": "Vj3Cg2riVX3m"
      },
      "source": [
        "# Preparing data"
      ]
    },
    {
      "cell_type": "code",
      "source": [
        "!pip install faker"
      ],
      "metadata": {
        "id": "83BBHcNJDmw4",
        "outputId": "eda05978-1135-4f25-881e-6d5e09c2e50f",
        "colab": {
          "base_uri": "https://localhost:8080/"
        }
      },
      "execution_count": 4,
      "outputs": [
        {
          "output_type": "stream",
          "name": "stdout",
          "text": [
            "Collecting faker\n",
            "  Downloading faker-37.4.0-py3-none-any.whl.metadata (15 kB)\n",
            "Requirement already satisfied: tzdata in /usr/local/lib/python3.11/dist-packages (from faker) (2025.2)\n",
            "Downloading faker-37.4.0-py3-none-any.whl (1.9 MB)\n",
            "\u001b[2K   \u001b[90m━━━━━━━━━━━━━━━━━━━━━━━━━━━━━━━━━━━━━━━━\u001b[0m \u001b[32m1.9/1.9 MB\u001b[0m \u001b[31m25.2 MB/s\u001b[0m eta \u001b[36m0:00:00\u001b[0m\n",
            "\u001b[?25hInstalling collected packages: faker\n",
            "Successfully installed faker-37.4.0\n"
          ]
        }
      ]
    },
    {
      "cell_type": "code",
      "execution_count": 5,
      "metadata": {
        "id": "z-caHS2MVX3m",
        "outputId": "53e0484a-f632-46ae-ebb3-4d6616f124f3",
        "colab": {
          "base_uri": "https://localhost:8080/"
        }
      },
      "outputs": [
        {
          "output_type": "stream",
          "name": "stdout",
          "text": [
            "+---------------------------------------------------------+--------------------------+----------+------------------------------+------------------+---------------------+\n",
            "|address                                                  |date                      |dob       |email                         |name              |phone                |\n",
            "+---------------------------------------------------------+--------------------------+----------+------------------------------+------------------+---------------------+\n",
            "|3576 Green Turnpike Apt. 973\\nJonathanfort, OH 20172     |2024-05-02 01:52:33.343982|1971-01-29|kennethporter@example.net     |Kenneth Clarke    |(454)916-7184        |\n",
            "|00743 Pamela Crossing Apt. 423\\nBenjaminport, OR 82666   |2024-05-02 11:30:22.134937|1954-01-03|michaelcrawford@example.com   |Brooke Scott      |001-670-596-2391x3422|\n",
            "|7622 Sean Parks\\nWest Sean, AZ 84874                     |2024-05-01 03:44:46.207469|1913-03-17|michael77@example.com         |Jennifer Baker    |+1-918-901-5459x36663|\n",
            "|26358 Gordon Flat\\nLake Michael, GU 45428                |2024-05-01 11:33:51.763914|1991-12-23|jacksontyler@example.net      |Heather Taylor    |9147011038           |\n",
            "|631 Erin Fork Suite 135\\nWest Seanmouth, PA 68986        |2024-05-04 13:04:34.355189|1982-09-13|carlturner@example.com        |Melissa Bell      |(990)322-6026x92193  |\n",
            "|90831 Brown Green\\nWest Chelseaview, MN 53545            |2024-05-03 03:02:07.280329|1934-10-03|kdavis@example.net            |Cindy Estrada     |(317)579-6638        |\n",
            "|3571 Beard Crest Apt. 049\\nCharleneville, OK 70819       |2024-05-02 14:00:24.507546|1958-08-02|frazierwayne@example.net      |Veronica Ruiz     |926-265-0650         |\n",
            "|37951 Wells Rapid Suite 130\\nSouth Cherylville, GU 82511 |2024-05-03 20:15:43.791095|1998-11-05|phall@example.net             |Victor Coleman    |(353)469-0513x181    |\n",
            "|40413 Jordan Keys Suite 848\\nSouth Jennifertown, WV 27115|2024-05-02 13:44:56.691263|1997-01-23|christopherbennett@example.com|Briana Davis      |(468)358-4804        |\n",
            "|6502 Shelly Valley Apt. 393\\nEast Reneechester, FM 85426 |2024-05-01 05:28:33.478752|1914-11-10|jonathan93@example.com        |Kristopher Shaffer|475.749.4128x02831   |\n",
            "+---------------------------------------------------------+--------------------------+----------+------------------------------+------------------+---------------------+\n",
            "only showing top 10 rows\n",
            "\n"
          ]
        }
      ],
      "source": [
        "from faker import Faker\n",
        "from datetime import datetime\n",
        "\n",
        "fake = Faker()\n",
        "\n",
        "users = []\n",
        "for _ in range(50):\n",
        "    user = {\n",
        "        'date': fake.date_time_between_dates(datetime(2024, 5, 1), datetime(2024, 5, 5)),\n",
        "        'name': fake.name(),\n",
        "        'address': fake.address(),\n",
        "        'email': fake.email(),\n",
        "        'dob': fake.date_of_birth(),\n",
        "        'phone': fake.phone_number()\n",
        "    }\n",
        "    users.append(user)\n",
        "\n",
        "df = spark.createDataFrame(users)\n",
        "\n",
        "df.show(10, False)\n"
      ]
    },
    {
      "cell_type": "markdown",
      "metadata": {
        "id": "YGXjf6xpBj36"
      },
      "source": [
        "# Writing as PARQUET\n",
        "\n"
      ]
    },
    {
      "cell_type": "markdown",
      "metadata": {
        "id": "14stpbb4Bj37"
      },
      "source": []
    },
    {
      "cell_type": "code",
      "execution_count": 11,
      "metadata": {
        "id": "dw5IIgebBj37",
        "outputId": "7f4ae218-1d72-4ec4-e4c5-cd4091a695c2",
        "colab": {
          "base_uri": "https://localhost:8080/"
        }
      },
      "outputs": [
        {
          "output_type": "stream",
          "name": "stdout",
          "text": [
            "part-00000-ae7de57c-8b92-4302-8f76-a7ece9a166ea-c000.snappy.parquet  _SUCCESS\n"
          ]
        },
        {
          "output_type": "execute_result",
          "data": {
            "text/plain": [
              "50"
            ]
          },
          "metadata": {},
          "execution_count": 11
        }
      ],
      "source": [
        "# Writing as PARQUET with no partitions\n",
        "\n",
        "path = \"/content/write_partitioning/parquet_no_partitions\"\n",
        "\n",
        "df.write.mode(\"overwrite\").format(\"parquet\").save(path)\n",
        "\n",
        "!ls /content/write_partitioning/parquet_no_partitions\n",
        "\n",
        "spark.read.format(\"parquet\").load(path).count()"
      ]
    },
    {
      "cell_type": "code",
      "source": [
        "# Writing as PARQUET with partitions\n",
        "from pyspark.sql.functions import *\n",
        "\n",
        "path = \"/content/write_partitioning/parquet_with_partitions\"\n",
        "\n",
        "# Creating partition column\n",
        "df = df.withColumn(\"date_part\", date_format(col(\"date\"), \"yyyyMMdd\"))\n",
        "\n",
        "spark.conf.set(\"spark.sql.sources.partitionOverwriteMode\",\"dynamic\") # enable dynamic partition overwrite - only overwrites partitions that are coming in the dataframe\n",
        "\n",
        "(df\n",
        " #.where(\"date_part = '20240503'\")\n",
        " .write\n",
        " .mode(\"overwrite\")                                               # overwrites the entire path with the new data\n",
        " .partitionBy(\"date_part\")                                        # partition the data by column - creates sub-folders for each partition\n",
        " .format(\"parquet\")                                               # format of output\n",
        " .save(path))                                                     # path\n",
        "\n",
        "!ls /content/write_partitioning/parquet_with_partitions\n",
        "\n",
        "spark.read.format(\"parquet\").load(path).count()"
      ],
      "metadata": {
        "id": "DWX9WZbPHrL1",
        "outputId": "f8dadaea-13f2-4055-c4b6-b30bc7f1ce92",
        "colab": {
          "base_uri": "https://localhost:8080/"
        }
      },
      "execution_count": 16,
      "outputs": [
        {
          "output_type": "stream",
          "name": "stdout",
          "text": [
            "'date_part=20240501'  'date_part=20240503'\n",
            "'date_part=20240502'  'date_part=20240504'\n"
          ]
        },
        {
          "output_type": "execute_result",
          "data": {
            "text/plain": [
              "50"
            ]
          },
          "metadata": {},
          "execution_count": 16
        }
      ]
    },
    {
      "cell_type": "code",
      "source": [
        "# Checking single partition\n",
        "spark.read.parquet(\"/content/write_partitioning/parquet_with_partitions/date_part=20240502\").show(50)"
      ],
      "metadata": {
        "id": "0B62qu87JsAB",
        "outputId": "ab7429c5-217b-446f-dcd4-4cffdc058b89",
        "colab": {
          "base_uri": "https://localhost:8080/"
        }
      },
      "execution_count": 17,
      "outputs": [
        {
          "output_type": "stream",
          "name": "stdout",
          "text": [
            "+--------------------+--------------------+----------+--------------------+--------------------+--------------------+\n",
            "|             address|                date|       dob|               email|                name|               phone|\n",
            "+--------------------+--------------------+----------+--------------------+--------------------+--------------------+\n",
            "|3576 Green Turnpi...|2024-05-02 01:52:...|1971-01-29|kennethporter@exa...|      Kenneth Clarke|       (454)916-7184|\n",
            "|00743 Pamela Cros...|2024-05-02 11:30:...|1954-01-03|michaelcrawford@e...|        Brooke Scott|001-670-596-2391x...|\n",
            "|3571 Beard Crest ...|2024-05-02 14:00:...|1958-08-02|frazierwayne@exam...|       Veronica Ruiz|        926-265-0650|\n",
            "|40413 Jordan Keys...|2024-05-02 13:44:...|1997-01-23|christopherbennet...|        Briana Davis|       (468)358-4804|\n",
            "|68657 Randy Canyo...|2024-05-02 11:45:...|2010-02-20|kathryn61@example...|Brittany Hopkins DVM| +1-371-700-3711x021|\n",
            "|Unit 3853 Box 477...|2024-05-02 22:53:...|1954-05-16| nlandry@example.net|          Mary Carey|   822-233-5312x7335|\n",
            "|70814 Wilson Lake...|2024-05-02 17:19:...|1920-11-04|donnapowell@examp...|         Adam Keller|    448-520-5590x426|\n",
            "|51508 Courtney Ra...|2024-05-02 18:50:...|1978-08-01| dbishop@example.com|      Jeanne Schmidt|        690.586.2462|\n",
            "|68420 Moreno Esta...|2024-05-02 02:40:...|1926-06-19|michael82@example...|  Jennifer Zimmerman|  764-560-7385x76391|\n",
            "|3365 Edwards Fiel...|2024-05-02 16:06:...|2002-10-21|orobinson@example...|      Thomas Johnson|   248-817-7802x5515|\n",
            "|USCGC Wilson\\nFPO...|2024-05-02 23:56:...|1923-04-10|jonescarla@exampl...|       Heather Pitts|    623-961-7065x265|\n",
            "|3355 Jerry Key Ap...|2024-05-02 07:19:...|1931-03-06|valdezkatherine@e...|          James Long|       (528)464-7387|\n",
            "|2876 Carter Court...|2024-05-02 01:38:...|2017-02-11|milleramanda@exam...|      Danny Thompson|    892.271.8232x969|\n",
            "|453 Christopher M...|2024-05-02 00:27:...|1982-07-28|branditaylor@exam...|       David Collins|     +1-924-610-4989|\n",
            "+--------------------+--------------------+----------+--------------------+--------------------+--------------------+\n",
            "\n"
          ]
        }
      ]
    },
    {
      "cell_type": "markdown",
      "source": [
        "# Writing as CSV\n",
        "\n",
        "https://spark.apache.org/docs/3.5.1/sql-data-sources-csv.html"
      ],
      "metadata": {
        "id": "n8mTC5yeNV6o"
      }
    },
    {
      "cell_type": "code",
      "source": [
        "df.count()"
      ],
      "metadata": {
        "id": "BnAWUTeZO43Z",
        "outputId": "93abd86f-7ca5-40ae-a6e9-89e786352645",
        "colab": {
          "base_uri": "https://localhost:8080/"
        }
      },
      "execution_count": 18,
      "outputs": [
        {
          "output_type": "execute_result",
          "data": {
            "text/plain": [
              "50"
            ]
          },
          "metadata": {},
          "execution_count": 18
        }
      ]
    },
    {
      "cell_type": "code",
      "source": [
        "path = \"/content/write_partitioning/csv_no_partitioning/\"\n",
        "\n",
        "# write as csv\n",
        "(df\n",
        "  .write\n",
        "  .format(\"csv\")\n",
        "  .mode(\"overwrite\")\n",
        "  .option(\"delimiter\", \"|\")\n",
        "  .option(\"header\", True)\n",
        "  .save(path))\n",
        "\n",
        "# listing files in the folder\n",
        "!ls /content/write_partitioning/csv_no_partitioning/\n",
        "\n",
        "# read as csv\n",
        "(spark\n",
        "  .read\n",
        "  .options(sep=\"|\", multiLine=True, header=True)\n",
        "  .csv(path)\n",
        "  .count())"
      ],
      "metadata": {
        "id": "oE6zC-HnNYAz",
        "outputId": "ac025bc4-58ce-457a-e0c5-bf24e995ff59",
        "colab": {
          "base_uri": "https://localhost:8080/"
        }
      },
      "execution_count": 19,
      "outputs": [
        {
          "output_type": "stream",
          "name": "stdout",
          "text": [
            "part-00000-bb29f782-bf2e-453a-80b5-d53b6bf5dc66-c000.csv  _SUCCESS\n"
          ]
        },
        {
          "output_type": "execute_result",
          "data": {
            "text/plain": [
              "50"
            ]
          },
          "metadata": {},
          "execution_count": 19
        }
      ]
    },
    {
      "cell_type": "markdown",
      "source": [
        "# Writing as JSON\n",
        "\n",
        "https://spark.apache.org/docs/3.5.1/sql-data-sources-json.html"
      ],
      "metadata": {
        "id": "ZAuM5-WcTtyZ"
      }
    },
    {
      "cell_type": "code",
      "source": [
        "path = \"/content/write_partitioning/json_no_partitioning/\"\n",
        "\n",
        "# write as json\n",
        "(df\n",
        ".write\n",
        ".mode(\"overwrite\")\n",
        ".format(\"json\")\n",
        ".save(path))\n",
        "\n",
        "# listing files in the folder\n",
        "!ls /content/write_partitioning/json_no_partitioning/\n",
        "\n",
        "# read as json\n",
        "(spark\n",
        "  .read\n",
        "  .json(path)\n",
        "  .count())"
      ],
      "metadata": {
        "id": "vnNgwbtxTsW_",
        "outputId": "c28bded5-e9a8-4a8a-9a4f-9f58b651cf3b",
        "colab": {
          "base_uri": "https://localhost:8080/"
        }
      },
      "execution_count": 20,
      "outputs": [
        {
          "output_type": "stream",
          "name": "stdout",
          "text": [
            "part-00000-630122bd-29a5-43ff-8344-9b2c842a3e67-c000.json  _SUCCESS\n"
          ]
        },
        {
          "output_type": "execute_result",
          "data": {
            "text/plain": [
              "50"
            ]
          },
          "metadata": {},
          "execution_count": 20
        }
      ]
    },
    {
      "cell_type": "code",
      "source": [
        "# reading json as text\n",
        "spark.read.text(path).show(10, False)"
      ],
      "metadata": {
        "id": "D3hYNCubT0ry",
        "outputId": "f816b5b1-ccca-42cb-c557-fc4f6144fd14",
        "colab": {
          "base_uri": "https://localhost:8080/"
        }
      },
      "execution_count": 21,
      "outputs": [
        {
          "output_type": "stream",
          "name": "stdout",
          "text": [
            "+--------------------------------------------------------------------------------------------------------------------------------------------------------------------------------------------------------------------------------------------+\n",
            "|value                                                                                                                                                                                                                                       |\n",
            "+--------------------------------------------------------------------------------------------------------------------------------------------------------------------------------------------------------------------------------------------+\n",
            "|{\"address\":\"3576 Green Turnpike Apt. 973\\nJonathanfort, OH 20172\",\"date\":\"2024-05-02T01:52:33.343Z\",\"dob\":\"1971-01-29\",\"email\":\"kennethporter@example.net\",\"name\":\"Kenneth Clarke\",\"phone\":\"(454)916-7184\",\"date_part\":\"20240502\"}          |\n",
            "|{\"address\":\"00743 Pamela Crossing Apt. 423\\nBenjaminport, OR 82666\",\"date\":\"2024-05-02T11:30:22.134Z\",\"dob\":\"1954-01-03\",\"email\":\"michaelcrawford@example.com\",\"name\":\"Brooke Scott\",\"phone\":\"001-670-596-2391x3422\",\"date_part\":\"20240502\"}|\n",
            "|{\"address\":\"7622 Sean Parks\\nWest Sean, AZ 84874\",\"date\":\"2024-05-01T03:44:46.207Z\",\"dob\":\"1913-03-17\",\"email\":\"michael77@example.com\",\"name\":\"Jennifer Baker\",\"phone\":\"+1-918-901-5459x36663\",\"date_part\":\"20240501\"}                      |\n",
            "|{\"address\":\"26358 Gordon Flat\\nLake Michael, GU 45428\",\"date\":\"2024-05-01T11:33:51.763Z\",\"dob\":\"1991-12-23\",\"email\":\"jacksontyler@example.net\",\"name\":\"Heather Taylor\",\"phone\":\"9147011038\",\"date_part\":\"20240501\"}                         |\n",
            "|{\"address\":\"631 Erin Fork Suite 135\\nWest Seanmouth, PA 68986\",\"date\":\"2024-05-04T13:04:34.355Z\",\"dob\":\"1982-09-13\",\"email\":\"carlturner@example.com\",\"name\":\"Melissa Bell\",\"phone\":\"(990)322-6026x92193\",\"date_part\":\"20240504\"}            |\n",
            "|{\"address\":\"90831 Brown Green\\nWest Chelseaview, MN 53545\",\"date\":\"2024-05-03T03:02:07.280Z\",\"dob\":\"1934-10-03\",\"email\":\"kdavis@example.net\",\"name\":\"Cindy Estrada\",\"phone\":\"(317)579-6638\",\"date_part\":\"20240503\"}                         |\n",
            "|{\"address\":\"3571 Beard Crest Apt. 049\\nCharleneville, OK 70819\",\"date\":\"2024-05-02T14:00:24.507Z\",\"dob\":\"1958-08-02\",\"email\":\"frazierwayne@example.net\",\"name\":\"Veronica Ruiz\",\"phone\":\"926-265-0650\",\"date_part\":\"20240502\"}               |\n",
            "|{\"address\":\"37951 Wells Rapid Suite 130\\nSouth Cherylville, GU 82511\",\"date\":\"2024-05-03T20:15:43.791Z\",\"dob\":\"1998-11-05\",\"email\":\"phall@example.net\",\"name\":\"Victor Coleman\",\"phone\":\"(353)469-0513x181\",\"date_part\":\"20240503\"}          |\n",
            "|{\"address\":\"40413 Jordan Keys Suite 848\\nSouth Jennifertown, WV 27115\",\"date\":\"2024-05-02T13:44:56.691Z\",\"dob\":\"1997-01-23\",\"email\":\"christopherbennett@example.com\",\"name\":\"Briana Davis\",\"phone\":\"(468)358-4804\",\"date_part\":\"20240502\"}  |\n",
            "|{\"address\":\"6502 Shelly Valley Apt. 393\\nEast Reneechester, FM 85426\",\"date\":\"2024-05-01T05:28:33.478Z\",\"dob\":\"1914-11-10\",\"email\":\"jonathan93@example.com\",\"name\":\"Kristopher Shaffer\",\"phone\":\"475.749.4128x02831\",\"date_part\":\"20240501\"}|\n",
            "+--------------------------------------------------------------------------------------------------------------------------------------------------------------------------------------------------------------------------------------------+\n",
            "only showing top 10 rows\n",
            "\n"
          ]
        }
      ]
    },
    {
      "cell_type": "code",
      "source": [
        "# reading json as text\n",
        "spark.read.json(path).show(10, False)"
      ],
      "metadata": {
        "id": "0bHcT2ilUo_F",
        "outputId": "edbf01eb-36c1-40c6-c7be-ca6207ef6191",
        "colab": {
          "base_uri": "https://localhost:8080/"
        }
      },
      "execution_count": 22,
      "outputs": [
        {
          "output_type": "stream",
          "name": "stdout",
          "text": [
            "+---------------------------------------------------------+------------------------+---------+----------+------------------------------+------------------+---------------------+\n",
            "|address                                                  |date                    |date_part|dob       |email                         |name              |phone                |\n",
            "+---------------------------------------------------------+------------------------+---------+----------+------------------------------+------------------+---------------------+\n",
            "|3576 Green Turnpike Apt. 973\\nJonathanfort, OH 20172     |2024-05-02T01:52:33.343Z|20240502 |1971-01-29|kennethporter@example.net     |Kenneth Clarke    |(454)916-7184        |\n",
            "|00743 Pamela Crossing Apt. 423\\nBenjaminport, OR 82666   |2024-05-02T11:30:22.134Z|20240502 |1954-01-03|michaelcrawford@example.com   |Brooke Scott      |001-670-596-2391x3422|\n",
            "|7622 Sean Parks\\nWest Sean, AZ 84874                     |2024-05-01T03:44:46.207Z|20240501 |1913-03-17|michael77@example.com         |Jennifer Baker    |+1-918-901-5459x36663|\n",
            "|26358 Gordon Flat\\nLake Michael, GU 45428                |2024-05-01T11:33:51.763Z|20240501 |1991-12-23|jacksontyler@example.net      |Heather Taylor    |9147011038           |\n",
            "|631 Erin Fork Suite 135\\nWest Seanmouth, PA 68986        |2024-05-04T13:04:34.355Z|20240504 |1982-09-13|carlturner@example.com        |Melissa Bell      |(990)322-6026x92193  |\n",
            "|90831 Brown Green\\nWest Chelseaview, MN 53545            |2024-05-03T03:02:07.280Z|20240503 |1934-10-03|kdavis@example.net            |Cindy Estrada     |(317)579-6638        |\n",
            "|3571 Beard Crest Apt. 049\\nCharleneville, OK 70819       |2024-05-02T14:00:24.507Z|20240502 |1958-08-02|frazierwayne@example.net      |Veronica Ruiz     |926-265-0650         |\n",
            "|37951 Wells Rapid Suite 130\\nSouth Cherylville, GU 82511 |2024-05-03T20:15:43.791Z|20240503 |1998-11-05|phall@example.net             |Victor Coleman    |(353)469-0513x181    |\n",
            "|40413 Jordan Keys Suite 848\\nSouth Jennifertown, WV 27115|2024-05-02T13:44:56.691Z|20240502 |1997-01-23|christopherbennett@example.com|Briana Davis      |(468)358-4804        |\n",
            "|6502 Shelly Valley Apt. 393\\nEast Reneechester, FM 85426 |2024-05-01T05:28:33.478Z|20240501 |1914-11-10|jonathan93@example.com        |Kristopher Shaffer|475.749.4128x02831   |\n",
            "+---------------------------------------------------------+------------------------+---------+----------+------------------------------+------------------+---------------------+\n",
            "only showing top 10 rows\n",
            "\n"
          ]
        }
      ]
    },
    {
      "cell_type": "code",
      "source": [
        "# partition json data + saveAsTable\n",
        "\n",
        "# Creating partition column\n",
        "df = df.withColumn(\"date_part\", date_format(col(\"date\"), \"yyyyMMdd\"))\n",
        "\n",
        "# write as json\n",
        "(df.write\n",
        "  .partitionBy(\"date_part\")\n",
        "  .mode(\"overwrite\")\n",
        "  .format(\"json\")\n",
        "  .saveAsTable(\"tbl_json_part\"))\n",
        "\n",
        "# read as json\n",
        "spark.table(\"tbl_json_part\").count()\n",
        "\n",
        "# read as json\n",
        "spark.sql(\"show partitions tbl_json_part\").show()"
      ],
      "metadata": {
        "id": "Qj59UNMuU0hV",
        "outputId": "bda88587-85c5-4681-bd00-8884f5df10ab",
        "colab": {
          "base_uri": "https://localhost:8080/"
        }
      },
      "execution_count": 23,
      "outputs": [
        {
          "output_type": "stream",
          "name": "stdout",
          "text": [
            "+------------------+\n",
            "|         partition|\n",
            "+------------------+\n",
            "|date_part=20240501|\n",
            "|date_part=20240502|\n",
            "|date_part=20240503|\n",
            "|date_part=20240504|\n",
            "+------------------+\n",
            "\n"
          ]
        }
      ]
    },
    {
      "cell_type": "markdown",
      "source": [
        "# Append Mode"
      ],
      "metadata": {
        "id": "6RhijzyqZeeq"
      }
    },
    {
      "cell_type": "code",
      "source": [
        "# Writing as PARQUET with APPEND\n",
        "\n",
        "path = \"/content/write_partitioning/parquet_append\"\n",
        "\n",
        "df.write.mode(\"append\").format(\"parquet\").save(path)\n",
        "\n",
        "!ls /content/write_partitioning/parquet_append\n",
        "\n",
        "spark.read.format(\"parquet\").load(path).count()"
      ],
      "metadata": {
        "id": "GmLjA1zDZeG_",
        "outputId": "8dc90a5b-ce22-439c-f2ae-2661b75c55e5",
        "colab": {
          "base_uri": "https://localhost:8080/"
        }
      },
      "execution_count": 24,
      "outputs": [
        {
          "output_type": "stream",
          "name": "stdout",
          "text": [
            "part-00000-4d1869fa-8198-472d-a2d3-398c5a20c0d0-c000.snappy.parquet  _SUCCESS\n"
          ]
        },
        {
          "output_type": "execute_result",
          "data": {
            "text/plain": [
              "50"
            ]
          },
          "metadata": {},
          "execution_count": 24
        }
      ]
    },
    {
      "cell_type": "code",
      "source": [],
      "metadata": {
        "id": "oNRb9NiWLbGY"
      },
      "execution_count": null,
      "outputs": []
    }
  ],
  "metadata": {
    "colab": {
      "provenance": [],
      "include_colab_link": true
    },
    "kernelspec": {
      "display_name": "Python 3",
      "name": "python3"
    },
    "language_info": {
      "name": "python"
    }
  },
  "nbformat": 4,
  "nbformat_minor": 0
}