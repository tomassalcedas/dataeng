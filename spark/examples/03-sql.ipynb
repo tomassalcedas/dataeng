{
  "cells": [
    {
      "cell_type": "markdown",
      "metadata": {
        "id": "view-in-github",
        "colab_type": "text"
      },
      "source": [
        "<a href=\"https://colab.research.google.com/github/tomassalcedas/dataeng/blob/main/spark/examples/03-sql.ipynb\" target=\"_parent\"><img src=\"https://colab.research.google.com/assets/colab-badge.svg\" alt=\"Open In Colab\"/></a>"
      ]
    },
    {
      "cell_type": "markdown",
      "metadata": {
        "id": "nfU2X4eaqMSC"
      },
      "source": [
        "<a href=\"https://colab.research.google.com/github/lucprosa/dataeng-basic-course/blob/main/spark/examples/03-sql.ipynb\" target=\"_parent\"><img src=\"https://colab.research.google.com/assets/colab-badge.svg\" alt=\"Open In Colab\"/></a>"
      ]
    },
    {
      "cell_type": "code",
      "source": [
        "from google.colab import drive\n",
        "drive.mount('/content/drive')"
      ],
      "metadata": {
        "id": "GRbnHCDPRjJj",
        "outputId": "d36f399e-250c-4ed0-d29d-b983ef14d995",
        "colab": {
          "base_uri": "https://localhost:8080/"
        }
      },
      "execution_count": 1,
      "outputs": [
        {
          "output_type": "stream",
          "name": "stdout",
          "text": [
            "Mounted at /content/drive\n"
          ]
        }
      ]
    },
    {
      "cell_type": "markdown",
      "metadata": {
        "id": "BOA_wQSmLd9z"
      },
      "source": [
        "# SQL\n",
        "- TempView\n",
        "- GlobalTempView\n",
        "- SQL\n",
        "- Catalog (saveAsTable)"
      ]
    },
    {
      "cell_type": "markdown",
      "metadata": {
        "id": "d9LeYFsPTjAb"
      },
      "source": [
        "# Setting up PySpark"
      ]
    },
    {
      "cell_type": "code",
      "execution_count": 2,
      "metadata": {
        "id": "uYXeODL0T1fO",
        "outputId": "a95c8cf8-4540-4520-f1e9-62a8c7f986d3",
        "colab": {
          "base_uri": "https://localhost:8080/"
        }
      },
      "outputs": [
        {
          "output_type": "stream",
          "name": "stdout",
          "text": [
            "Requirement already satisfied: pyspark in /usr/local/lib/python3.11/dist-packages (3.5.1)\n",
            "Requirement already satisfied: py4j==0.10.9.7 in /usr/local/lib/python3.11/dist-packages (from pyspark) (0.10.9.7)\n"
          ]
        }
      ],
      "source": [
        "%pip install pyspark"
      ]
    },
    {
      "cell_type": "code",
      "execution_count": 3,
      "metadata": {
        "id": "637HFw00T3LP"
      },
      "outputs": [],
      "source": [
        "from pyspark.sql import SparkSession\n",
        "spark = SparkSession.builder.master('local').appName('Spark Course').config('spark.ui.port', '4050').getOrCreate()\n",
        "sc = spark.sparkContext"
      ]
    },
    {
      "cell_type": "code",
      "source": [
        "lst = [(\"c1\", \"v1\"), (\"c2\", \"v2\"), (\"c3\", \"v3\")]\n",
        "rdd = sc.parallelize(lst)\n",
        "df = rdd.toDF([\"col\", \"value\"])"
      ],
      "metadata": {
        "id": "KRpVFC8O1Z9N"
      },
      "execution_count": 4,
      "outputs": []
    },
    {
      "cell_type": "code",
      "execution_count": 5,
      "metadata": {
        "id": "KosbhJyJqMSI",
        "outputId": "04cc994d-fc79-432c-b6da-f2e3f8367e7d",
        "colab": {
          "base_uri": "https://localhost:8080/"
        }
      },
      "outputs": [
        {
          "output_type": "stream",
          "name": "stdout",
          "text": [
            "+---+-----+\n",
            "|col|value|\n",
            "+---+-----+\n",
            "| c1|   v1|\n",
            "| c2|   v2|\n",
            "| c3|   v3|\n",
            "+---+-----+\n",
            "\n"
          ]
        }
      ],
      "source": [
        "# TempVIews - Session level\n",
        "df.createOrReplaceTempView(\"my_table\")\n",
        "spark.sql(\"select * from my_table\").show()"
      ]
    },
    {
      "cell_type": "code",
      "execution_count": 6,
      "metadata": {
        "id": "tkqjl78sqMSI",
        "outputId": "7f567cbb-210e-4339-8146-f6db9d0705fe",
        "colab": {
          "base_uri": "https://localhost:8080/"
        }
      },
      "outputs": [
        {
          "output_type": "stream",
          "name": "stdout",
          "text": [
            "+---+-----+\n",
            "|col|value|\n",
            "+---+-----+\n",
            "| c1|   v1|\n",
            "| c2|   v2|\n",
            "| c3|   v3|\n",
            "+---+-----+\n",
            "\n"
          ]
        }
      ],
      "source": [
        "# GlobalTempViews - Spark application level - global_temp database\n",
        "df.createOrReplaceGlobalTempView(\"my_table2\")\n",
        "spark.sql(\"select * from globaL_temp.my_table2\").show()"
      ]
    },
    {
      "cell_type": "code",
      "execution_count": 7,
      "metadata": {
        "id": "rk0SIo0nqRwL",
        "outputId": "d9feb93e-9079-44ab-e611-3012f1270ba9",
        "colab": {
          "base_uri": "https://localhost:8080/"
        }
      },
      "outputs": [
        {
          "output_type": "stream",
          "name": "stdout",
          "text": [
            "+---------+\n",
            "|namespace|\n",
            "+---------+\n",
            "|  default|\n",
            "|     test|\n",
            "+---------+\n",
            "\n"
          ]
        }
      ],
      "source": [
        "# interating with catalog\n",
        "spark.sql(\"create schema test\")\n",
        "spark.sql(\"show databases\").show()"
      ]
    },
    {
      "cell_type": "code",
      "execution_count": 8,
      "metadata": {
        "id": "dSbgHD32quHR"
      },
      "outputs": [],
      "source": [
        "df = spark.createDataFrame([(\"c1\", \"v1\"), (\"c2\", \"v2\")], schema=[\"col\", \"value\"])\n",
        "df.write.saveAsTable(\"test.my_table\")"
      ]
    },
    {
      "cell_type": "code",
      "source": [
        "# listing tables from test\n",
        "spark.sql(\"show tables from test\").show()"
      ],
      "metadata": {
        "id": "YVFyShr2ZD5j",
        "outputId": "8ad7d1f0-8d6a-4961-810a-041fe95ef7b1",
        "colab": {
          "base_uri": "https://localhost:8080/"
        }
      },
      "execution_count": 9,
      "outputs": [
        {
          "output_type": "stream",
          "name": "stdout",
          "text": [
            "+---------+---------+-----------+\n",
            "|namespace|tableName|isTemporary|\n",
            "+---------+---------+-----------+\n",
            "|     test| my_table|      false|\n",
            "|         | my_table|       true|\n",
            "+---------+---------+-----------+\n",
            "\n"
          ]
        }
      ]
    },
    {
      "cell_type": "code",
      "source": [
        "spark.sql(\"select * from test.my_table\").show()"
      ],
      "metadata": {
        "id": "ISx7T8ddZVjl",
        "outputId": "746d868b-b4bd-43cc-bb7b-5721f7b04d3d",
        "colab": {
          "base_uri": "https://localhost:8080/"
        }
      },
      "execution_count": 10,
      "outputs": [
        {
          "output_type": "stream",
          "name": "stdout",
          "text": [
            "+---+-----+\n",
            "|col|value|\n",
            "+---+-----+\n",
            "| c1|   v1|\n",
            "| c2|   v2|\n",
            "+---+-----+\n",
            "\n"
          ]
        }
      ]
    },
    {
      "cell_type": "code",
      "source": [],
      "metadata": {
        "id": "J0_LmRPbTjCY"
      },
      "execution_count": 10,
      "outputs": []
    }
  ],
  "metadata": {
    "colab": {
      "provenance": [],
      "include_colab_link": true
    },
    "kernelspec": {
      "display_name": "Python 3",
      "name": "python3"
    },
    "language_info": {
      "name": "python"
    }
  },
  "nbformat": 4,
  "nbformat_minor": 0
}