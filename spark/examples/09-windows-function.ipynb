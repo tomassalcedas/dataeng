{
  "cells": [
    {
      "cell_type": "markdown",
      "metadata": {
        "id": "view-in-github",
        "colab_type": "text"
      },
      "source": [
        "<a href=\"https://colab.research.google.com/github/lucprosa/dataeng-basic-course/blob/main/spark/examples/09-windows-function.ipynb\" target=\"_parent\"><img src=\"https://colab.research.google.com/assets/colab-badge.svg\" alt=\"Open In Colab\"/></a>"
      ]
    },
    {
      "cell_type": "markdown",
      "metadata": {
        "id": "BOA_wQSmLd9z"
      },
      "source": [
        "# Windows Function\n",
        "- Window functions operate on a group of rows, referred to as a window, and calculate a return value for each row based on the group of rows.\n",
        "- Window functions are useful for processing tasks such as calculating a moving average, computing a cumulative statistic, or accessing the value of rows given the relative position of the current row."
      ]
    },
    {
      "cell_type": "markdown",
      "metadata": {
        "id": "d9LeYFsPTjAb"
      },
      "source": [
        "# Setting up PySpark"
      ]
    },
    {
      "cell_type": "code",
      "execution_count": null,
      "metadata": {
        "id": "uYXeODL0T1fO"
      },
      "outputs": [],
      "source": [
        "%pip install pyspark"
      ]
    },
    {
      "cell_type": "code",
      "execution_count": null,
      "metadata": {
        "id": "637HFw00T3LP"
      },
      "outputs": [],
      "source": [
        "from pyspark.sql import SparkSession\n",
        "spark = SparkSession.builder.master('local').appName('Spark Course').config('spark.ui.port', '4050').getOrCreate()"
      ]
    },
    {
      "cell_type": "markdown",
      "metadata": {
        "id": "9BRgjNQbOKE0"
      },
      "source": [
        "# Windows Function"
      ]
    },
    {
      "cell_type": "code",
      "execution_count": null,
      "metadata": {
        "id": "fZzWrJbROKE0"
      },
      "outputs": [],
      "source": [
        "# using inline table to prepare the data\n",
        "\n",
        "qry = \"\"\"CREATE OR REPLACE TEMPORARY VIEW employees AS SELECT * FROM VALUES(\"Lisa\", \"Sales\", 10000, 35),\n",
        "(\"Evan\", \"Sales\", 32000, 38),\n",
        "(\"Fred\", \"Engineering\", 21000, 28),\n",
        "(\"Alex\", \"Sales\", 30000, 33),\n",
        "(\"Tom\", \"Engineering\", 23000, 33),\n",
        "(\"Jane\", \"Marketing\", 29000, 28),\n",
        "(\"Jeff\", \"Marketing\", 35000, 38),\n",
        "(\"Paul\", \"Engineering\", 29000, 23),\n",
        "(\"Chloe\", \"Engineering\", 23000, 25)\n",
        "AS employees(name, dept, salary, age)\"\"\"\n",
        "\n",
        "spark.sql(qry)\n",
        "spark.table(\"employees\").show()"
      ]
    },
    {
      "cell_type": "code",
      "execution_count": null,
      "metadata": {
        "id": "o0JtIU70Pgoq"
      },
      "outputs": [],
      "source": [
        "# calculate dense_rank on salary\n",
        "qry1 = \"\"\"SELECT name, dept, salary, DENSE_RANK() OVER (PARTITION BY dept ORDER BY salary ROWS BETWEEN\n",
        "    UNBOUNDED PRECEDING AND CURRENT ROW) AS dense_rank FROM employees;\"\"\"\n",
        "\n",
        "spark.sql(qry1).show()"
      ]
    },
    {
      "cell_type": "code",
      "execution_count": null,
      "metadata": {
        "id": "mE58WtSzRsg9"
      },
      "outputs": [],
      "source": [
        "# calculate min salary by dept\n",
        "qry2 = \"\"\"SELECT name, dept, salary, MIN(salary) OVER (PARTITION BY dept ORDER BY salary) AS min\n",
        "    FROM employees;\"\"\"\n",
        "\n",
        "spark.sql(qry2).show()"
      ]
    },
    {
      "cell_type": "code",
      "execution_count": null,
      "metadata": {
        "id": "FBohSBV4Sfkb"
      },
      "outputs": [],
      "source": [
        "# same logic but using dataframes\n",
        "from pyspark.sql.functions import min\n",
        "from pyspark.sql.window import Window\n",
        "\n",
        "df = spark.table(\"employees\")\n",
        "windowSpec = Window.partitionBy(\"dept\").orderBy(\"salary\")\n",
        "df.withColumn(\"min\", min(\"salary\").over(windowSpec)).show()"
      ]
    },
    {
      "cell_type": "markdown",
      "metadata": {
        "id": "8KnCXs19UXDw"
      },
      "source": [
        "# Question"
      ]
    },
    {
      "cell_type": "code",
      "execution_count": null,
      "metadata": {
        "id": "NM33rISwSybn"
      },
      "outputs": [],
      "source": [
        "# Q1\n",
        "# Use windows functions to identify the higher salary by dept\n",
        "# Create new column \"highest_salary_dept\" and assign TRUE/FALSE accordingly\n",
        "# Identify the high salary of the company (including all the dept)\n",
        "# Create new column \"highest_salary_company\" and assign TRUE/FALSE accordingly"
      ]
    }
  ],
  "metadata": {
    "colab": {
      "provenance": [],
      "include_colab_link": true
    },
    "kernelspec": {
      "display_name": "Python 3",
      "name": "python3"
    },
    "language_info": {
      "name": "python"
    }
  },
  "nbformat": 4,
  "nbformat_minor": 0
}