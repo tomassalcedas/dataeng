{
  "cells": [
    {
      "cell_type": "markdown",
      "metadata": {
        "id": "view-in-github",
        "colab_type": "text"
      },
      "source": [
        "<a href=\"https://colab.research.google.com/github/lucprosa/dataeng-basic-course/blob/main/spark/challenges/challenge_2.ipynb\" target=\"_parent\"><img src=\"https://colab.research.google.com/assets/colab-badge.svg\" alt=\"Open In Colab\"/></a>"
      ]
    },
    {
      "cell_type": "markdown",
      "metadata": {
        "id": "BOA_wQSmLd9z"
      },
      "source": [
        "# CHALLENGE 2\n",
        "##  Implement CLEANSING process\n",
        "- Set up path in the \"lake\"\n",
        "  - !mkdir -p /content/lake/silver\n",
        "\n",
        "- Read data from BRONZE layer as PARQUET:\n",
        "    - vehicles - path: /content/lake/bronze/vehicles\n",
        "    - lines - path: /content/lake/bronze/lines\n",
        "    - municipalities - path: /content/lake/bronze/municipalities\n",
        "\n",
        "- Transformations\n",
        "  - vehicles\n",
        "    - rename \"lat\" and \"lon\" to \"latitude\" and \"longitude\" respectively\n",
        "    - remove possible duplicates\n",
        "    - remove rows when the column CURRENT_STATUS is null\n",
        "    - remove any corrupted record\n",
        "  - lines\n",
        "    - remove duplicates\n",
        "    - remove rows when the column LONG_NAME is null\n",
        "    - remove any corrupted record\n",
        "  - municipalities\n",
        "    - remove duplicates\n",
        "    - remove rows when the columns NAME or DISTRICT_NAME are null\n",
        "    - remove any corrupted record\n",
        "\n",
        "- Write data as PARQUET into the SILVER layer (/content/lake/silver)\n",
        "  - Partition \"vehicles\" by \"date\"(created in the ingestion)\n",
        "  - Paths:\n",
        "    - vehicles - path: /content/lake/silver/vehicles\n",
        "    - lines - path: /content/lake/silver/lines\n",
        "    - municipalities - path: /content/lake/silver/municipalities"
      ]
    },
    {
      "cell_type": "markdown",
      "metadata": {
        "id": "d9LeYFsPTjAb"
      },
      "source": [
        "# Setting up PySpark"
      ]
    },
    {
      "cell_type": "code",
      "execution_count": null,
      "metadata": {
        "colab": {
          "base_uri": "https://localhost:8080/"
        },
        "id": "uYXeODL0T1fO",
        "outputId": "c410e46c-4a50-43aa-926f-d0417c6280d2"
      },
      "outputs": [
        {
          "name": "stdout",
          "output_type": "stream",
          "text": [
            "Requirement already satisfied: pyspark in /usr/local/lib/python3.10/dist-packages (3.5.3)\n",
            "Requirement already satisfied: py4j==0.10.9.7 in /usr/local/lib/python3.10/dist-packages (from pyspark) (0.10.9.7)\n"
          ]
        }
      ],
      "source": [
        "%pip install pyspark"
      ]
    }
  ],
  "metadata": {
    "colab": {
      "provenance": [],
      "include_colab_link": true
    },
    "kernelspec": {
      "display_name": "Python 3",
      "name": "python3"
    },
    "language_info": {
      "name": "python"
    }
  },
  "nbformat": 4,
  "nbformat_minor": 0
}