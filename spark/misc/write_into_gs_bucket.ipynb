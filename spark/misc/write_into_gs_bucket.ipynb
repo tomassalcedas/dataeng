{
 "cells": [
  {
   "cell_type": "markdown",
   "metadata": {
    "id": "1eYDKU0O-BvH"
   },
   "source": [
    "<a href=\"https://colab.research.google.com/github/lucprosa/dataeng-basic-course/blob/main/spark/misc/write_into_gs_bucket.ipynb\" target=\"_parent\"><img src=\"https://colab.research.google.com/assets/colab-badge.svg\" alt=\"Open In Colab\"/></a>"
   ]
  },
  {
   "cell_type": "markdown",
   "metadata": {},
   "source": [
    "# Example of reading and writing data into GC bucket\n",
    "- Should be open by Dataproc or other service that is allowed to connect to GC bucket"
   ]
  },
  {
   "cell_type": "code",
   "execution_count": null,
   "metadata": {},
   "outputs": [],
   "source": [
    "from pyspark.sql import SparkSession\n",
    "spark = SparkSession.builder.appName('Spark Course').getOrCreate()"
   ]
  },
  {
   "cell_type": "code",
   "execution_count": null,
   "metadata": {
    "id": "jUqfHj_2AT0f"
   },
   "outputs": [],
   "source": [
    "# prepare data\n",
    "\n",
    "sql_query = \"\"\"CREATE OR REPLACE TEMPORARY VIEW basic_pays AS SELECT * FROM VALUES\n",
    "('Diane Murphy','Accounting',8435),\n",
    "('Mary Patterson','Accounting',9998),\n",
    "('Jeff Firrelli','Accounting',8992),\n",
    "('William Patterson','Accounting',8870),\n",
    "('Gerard Bondur','Accounting',11472),\n",
    "('Anthony Bow','Accounting',6627),\n",
    "('Leslie Jennings','IT',8113),\n",
    "('Leslie Thompson','IT',5186),\n",
    "('Julie Firrelli','Sales',9181),\n",
    "('Steve Patterson','Sales',9441),\n",
    "('Foon Yue Tseng','Sales',6660),\n",
    "('George Vanauf','Sales',10563),\n",
    "('Loui Bondur','SCM',10449),\n",
    "('Gerard Hernandez','SCM',6949),\n",
    "('Pamela Castillo','SCM',11303),\n",
    "('Larry Bott','SCM',11798),\n",
    "('Barry Jones','SCM',10586)\n",
    "AS basic_pays(employee_name, department, salary)\"\"\"\n",
    "\n",
    "# creating temp view\n",
    "spark.sql(sql_query)\n",
    "\n",
    "df = spark.table(\"basic_pays\")\n",
    "df.show()"
   ]
  },
  {
   "cell_type": "code",
   "execution_count": null,
   "metadata": {},
   "outputs": [],
   "source": [
    "# define paths\n",
    "bucket_name=\"edit-data-eng-dev\"\n",
    "lake_path=\"datalake/bronze\"\n",
    "table_path=\"basic_pays\"\n",
    "final_path=f\"gs://{bucket_name}/{lake_path}/{table_path}\"\n",
    "final_path"
   ]
  },
  {
   "cell_type": "code",
   "execution_count": null,
   "metadata": {},
   "outputs": [],
   "source": [
    "# write into GC bucket as parquet\n",
    "df.write.format(\"parquet\").save(final_path)"
   ]
  },
  {
   "cell_type": "code",
   "execution_count": null,
   "metadata": {},
   "outputs": [],
   "source": [
    "# read from GC bucket\n",
    "result = spark.read.format(\"parquet\").load(final_path)\n",
    "result.show()"
   ]
  }
 ],
 "metadata": {
  "colab": {
   "provenance": []
  },
  "kernelspec": {
   "display_name": "Python 3",
   "name": "python3"
  },
  "language_info": {
   "name": "python"
  }
 },
 "nbformat": 4,
 "nbformat_minor": 0
}
