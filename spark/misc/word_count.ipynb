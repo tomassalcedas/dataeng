{
  "cells": [
    {
      "cell_type": "markdown",
      "metadata": {
        "id": "view-in-github",
        "colab_type": "text"
      },
      "source": [
        "<a href=\"https://colab.research.google.com/github/lucprosa/dataeng-basic-course/blob/main/spark/misc/word_count.ipynb\" target=\"_parent\"><img src=\"https://colab.research.google.com/assets/colab-badge.svg\" alt=\"Open In Colab\"/></a>"
      ]
    },
    {
      "cell_type": "markdown",
      "metadata": {
        "id": "IAfIZtpGOIuD"
      },
      "source": [
        "<a href=\"https://colab.research.google.com/github/lucprosa/dataeng-basic-course/blob/main/spark/misc/word_count.ipynb\" target=\"_parent\"><img src=\"https://colab.research.google.com/assets/colab-badge.svg\" alt=\"Open In Colab\"/></a>"
      ]
    },
    {
      "cell_type": "markdown",
      "metadata": {
        "id": "BOA_wQSmLd9z"
      },
      "source": [
        "# Word Count"
      ]
    },
    {
      "cell_type": "markdown",
      "metadata": {
        "id": "d9LeYFsPTjAb"
      },
      "source": [
        "# Setting up PySpark"
      ]
    },
    {
      "cell_type": "code",
      "execution_count": null,
      "metadata": {
        "id": "uYXeODL0T1fO"
      },
      "outputs": [],
      "source": [
        "%pip install pyspark"
      ]
    },
    {
      "cell_type": "code",
      "execution_count": null,
      "metadata": {
        "id": "637HFw00T3LP"
      },
      "outputs": [],
      "source": [
        "from pyspark.sql import SparkSession\n",
        "spark = SparkSession.builder.master('local').appName('Spark Course').config('spark.ui.port', '4050').getOrCreate()\n",
        "\n",
        "sc = spark.sparkContext"
      ]
    },
    {
      "cell_type": "code",
      "execution_count": null,
      "metadata": {
        "id": "7r382W3hOIuG"
      },
      "outputs": [],
      "source": [
        "!mkdir /content/files/\n",
        "text = \"these are words \\\n",
        "these are more words \\\n",
        "words in english\"\n",
        "\n",
        "text_file = open(\"/content/files/some_words.txt\", \"w\")\n",
        "text_file.write(text)\n",
        "text_file.close()"
      ]
    },
    {
      "cell_type": "code",
      "execution_count": null,
      "metadata": {
        "id": "SYbVhFNrOIuG"
      },
      "outputs": [],
      "source": [
        "rdd1 = sc.textFile(\"/content/files/some_words.txt\")\n",
        "\n",
        "# check how many partitions\n",
        "rdd1.getNumPartitions()"
      ]
    },
    {
      "cell_type": "code",
      "execution_count": null,
      "metadata": {
        "id": "s1_m-MJuOg7b"
      },
      "outputs": [],
      "source": [
        "# increase partitions\n",
        "rdd2 = rdd1.repartition(3)\n",
        "rdd2.getNumPartitions()"
      ]
    },
    {
      "cell_type": "code",
      "execution_count": null,
      "metadata": {
        "id": "TvxD2uY8QW-E"
      },
      "outputs": [],
      "source": [
        "# flatMap - Each item in input can be 0 or more items in output (returns a Seq)\n",
        "# \"these are words\" -> split by \" \" -> [\"there\", \"are\", \"words\"]\n",
        "rdd3 = rdd2.flatMap(lambda line: line.split(\" \"))\n",
        "\n",
        "# send data to driver if cluster\n",
        "rdd3.collect()"
      ]
    },
    {
      "cell_type": "code",
      "execution_count": null,
      "metadata": {
        "id": "FTzNkKhiRIRx"
      },
      "outputs": [],
      "source": [
        "# map - Each item in input returns one item in output\n",
        "# \"these\" -> (\"these\", 1)\n",
        "rdd4 = rdd3.map(lambda word: (word, 1))\n",
        "rdd4.collect()"
      ]
    },
    {
      "cell_type": "code",
      "execution_count": null,
      "metadata": {
        "id": "RioZ_RSrQfPq"
      },
      "outputs": [],
      "source": [
        "# reduceByKey - When called on a dataset of (K, V) pairs, returns a dataset of (K, V) pairs where the values for each key are\n",
        "# aggregated using the given reduce function func, which must be of type (V,V) => V.\n",
        "\n",
        "rdd5 = rdd4.reduceByKey(lambda a, b: a + b)\n",
        "sorted(rdd5.collect())"
      ]
    },
    {
      "cell_type": "code",
      "execution_count": null,
      "metadata": {
        "id": "_OegU-OxRdEt"
      },
      "outputs": [],
      "source": [
        "# another way to count the words - using method \"add\"\n",
        "from operator import add\n",
        "sorted(rdd4.reduceByKey(add).collect())"
      ]
    },
    {
      "cell_type": "code",
      "execution_count": null,
      "metadata": {
        "id": "oD4a_Et4VdTB"
      },
      "outputs": [],
      "source": [
        "# putting all commands together\n",
        "\n",
        "counts = (\n",
        "    rdd1.flatMap(lambda line: line.split(\" \"))\n",
        "    .map(lambda word: (word, 1))\n",
        "    .reduceByKey(lambda a, b: a + b)\n",
        "    .sortByKey()\n",
        ")\n",
        "\n",
        "counts.collect()"
      ]
    },
    {
      "cell_type": "code",
      "execution_count": null,
      "metadata": {
        "id": "azZ0Q2fPXOOB"
      },
      "outputs": [],
      "source": [
        "def wordCount(file_path: str, num_partitions: int):\n",
        "  rdd1 = sc.textFile(file_path)\n",
        "  counts = (\n",
        "      rdd1.flatMap(lambda line: line.split(\" \"))\n",
        "      .map(lambda word: (word, 1))\n",
        "      .reduceByKey(lambda a, b: a + b, num_partitions)\n",
        "      .sortByKey()\n",
        "  )\n",
        "  return counts"
      ]
    },
    {
      "cell_type": "code",
      "execution_count": null,
      "metadata": {
        "id": "aaz35GcdYy5Y"
      },
      "outputs": [],
      "source": [
        "output = wordCount(\"/content/files/some_words.txt\", 7)"
      ]
    },
    {
      "cell_type": "code",
      "execution_count": null,
      "metadata": {
        "id": "5sb28wk2Y2kc"
      },
      "outputs": [],
      "source": [
        "type(output) # pyspark.rdd.PipelinedRDD"
      ]
    },
    {
      "cell_type": "code",
      "execution_count": null,
      "metadata": {
        "id": "bbBLh_qJYVUd"
      },
      "outputs": [],
      "source": [
        "output.collect()"
      ]
    },
    {
      "cell_type": "code",
      "execution_count": null,
      "metadata": {
        "id": "_DxfNJk1YyJ1"
      },
      "outputs": [],
      "source": [
        "output.getNumPartitions()"
      ]
    }
  ],
  "metadata": {
    "colab": {
      "provenance": [],
      "include_colab_link": true
    },
    "kernelspec": {
      "display_name": "Python 3",
      "name": "python3"
    },
    "language_info": {
      "name": "python"
    }
  },
  "nbformat": 4,
  "nbformat_minor": 0
}