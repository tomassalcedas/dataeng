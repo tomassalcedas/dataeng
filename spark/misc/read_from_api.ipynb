{
  "cells": [
    {
      "cell_type": "markdown",
      "metadata": {
        "id": "view-in-github",
        "colab_type": "text"
      },
      "source": [
        "<a href=\"https://colab.research.google.com/github/lucprosa/dataeng-basic-course/blob/main/spark/misc/read_from_api.ipynb\" target=\"_parent\"><img src=\"https://colab.research.google.com/assets/colab-badge.svg\" alt=\"Open In Colab\"/></a>"
      ]
    },
    {
      "cell_type": "markdown",
      "metadata": {
        "id": "BOA_wQSmLd9z"
      },
      "source": [
        "# Read from API\n",
        "- Read data from API using requests and RDDs"
      ]
    },
    {
      "cell_type": "markdown",
      "metadata": {
        "id": "d9LeYFsPTjAb"
      },
      "source": [
        "# Setting up PySpark"
      ]
    },
    {
      "cell_type": "code",
      "execution_count": null,
      "metadata": {
        "id": "uYXeODL0T1fO"
      },
      "outputs": [],
      "source": [
        "%pip install pyspark"
      ]
    },
    {
      "cell_type": "code",
      "execution_count": null,
      "metadata": {
        "id": "637HFw00T3LP"
      },
      "outputs": [],
      "source": [
        "from pyspark.sql import SparkSession\n",
        "spark = SparkSession.builder.master('local').appName('Spark Course').config('spark.ui.port', '4050').getOrCreate()\n",
        "sc = spark.sparkContext"
      ]
    },
    {
      "cell_type": "markdown",
      "metadata": {
        "id": "FM8YQx6XGeiL"
      },
      "source": [
        "# Get data from API - Vehicles"
      ]
    },
    {
      "cell_type": "code",
      "execution_count": null,
      "metadata": {
        "id": "0wntlQDWGeiL"
      },
      "outputs": [],
      "source": [
        "import requests\n",
        "from pyspark.sql.types import *\n",
        "\n",
        "def readFromAPI(url: str, schema: StructType = None):\n",
        "  response = requests.get(url)\n",
        "  rdd = sc.parallelize(response.json())\n",
        "\n",
        "  if schema:\n",
        "    df = spark.read.schema(schema).json(rdd)\n",
        "  else:\n",
        "    df = spark.read.json(rdd)\n",
        "  return df"
      ]
    },
    {
      "cell_type": "code",
      "source": [
        "readFromAPI(\"https://api.carrismetropolitana.pt/municipalities\").show()"
      ],
      "metadata": {
        "id": "F__plK66cZR7"
      },
      "execution_count": null,
      "outputs": []
    },
    {
      "cell_type": "markdown",
      "source": [
        "# Vehicles"
      ],
      "metadata": {
        "id": "D7iupARGb51N"
      }
    },
    {
      "cell_type": "code",
      "execution_count": null,
      "metadata": {
        "id": "VUI0pjsuJh5z"
      },
      "outputs": [],
      "source": [
        "vehicle_schema = StructType([StructField('bearing', IntegerType(), True),\n",
        "                             StructField('block_id', StringType(), True),\n",
        "                             StructField('current_status', StringType(), True),\n",
        "                             StructField('id', StringType(), True),\n",
        "                             StructField('lat', FloatType(), True),\n",
        "                             StructField('line_id', StringType(), True),\n",
        "                             StructField('lon', FloatType(), True),\n",
        "                             StructField('pattern_id', StringType(), True),\n",
        "                             StructField('route_id', StringType(), True),\n",
        "                             StructField('schedule_relationship', StringType(), True),\n",
        "                             StructField('shift_id', StringType(), True),\n",
        "                             StructField('speed', FloatType(), True),\n",
        "                             StructField('stop_id', StringType(), True),\n",
        "                             StructField('timestamp', TimestampType(), True),\n",
        "                             StructField('trip_id', StringType(), True)])\n",
        "\n",
        "vehicles = readFromAPI(\"https://api.carrismetropolitana.pt/vehicles\", vehicle_schema)\n",
        "print(vehicles.count())\n",
        "vehicles.show()"
      ]
    },
    {
      "cell_type": "markdown",
      "source": [
        "# Routes"
      ],
      "metadata": {
        "id": "wY3qFrIsd59o"
      }
    },
    {
      "cell_type": "code",
      "source": [
        "from pyspark.sql.functions import *\n",
        "routes = readFromAPI(\"https://api.carrismetropolitana.pt/routes\")\n",
        "print(routes.count())"
      ],
      "metadata": {
        "id": "61ctySGTcWKQ"
      },
      "execution_count": null,
      "outputs": []
    },
    {
      "cell_type": "markdown",
      "source": [
        "# Questions"
      ],
      "metadata": {
        "id": "fD94isDGeYOD"
      }
    },
    {
      "cell_type": "markdown",
      "source": [
        "# Q1\n",
        "- adjust ROUTE dataframe\n",
        "  - use correct schema to get the data (StructField)\n",
        "  - make sure _corrupt_record is removed from schema\n",
        "- find the routes that pass through the localities \"Brandoa\" and \"Colégio Militar\""
      ],
      "metadata": {
        "id": "c3KKfwbQebwt"
      }
    },
    {
      "cell_type": "markdown",
      "source": [
        "# Q2\n",
        "- What is the line with more localities?\n"
      ],
      "metadata": {
        "id": "w46Txx__rc4r"
      }
    },
    {
      "cell_type": "markdown",
      "source": [],
      "metadata": {
        "id": "Bmv3Q9uVrvWo"
      }
    },
    {
      "cell_type": "markdown",
      "metadata": {
        "id": "4oONLIeBS8JQ"
      },
      "source": [
        "### API - https://github.com/carrismetropolitana/api"
      ]
    }
  ],
  "metadata": {
    "colab": {
      "provenance": [],
      "include_colab_link": true
    },
    "kernelspec": {
      "display_name": "Python 3",
      "name": "python3"
    },
    "language_info": {
      "name": "python"
    }
  },
  "nbformat": 4,
  "nbformat_minor": 0
}