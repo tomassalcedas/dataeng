{
 "cells": [
  {
   "cell_type": "markdown",
   "metadata": {},
   "source": [
    "<a href=\"https://colab.research.google.com/github/lucprosa/dataeng-basic-course/blob/main/spark_streaming/dataproc/producer_collab.ipynb\" target=\"_parent\"><img src=\"https://colab.research.google.com/assets/colab-badge.svg\" alt=\"Open In Colab\"/></a>"
   ]
  },
  {
   "cell_type": "markdown",
   "metadata": {
    "id": "2IZVtSO5sqa8"
   },
   "source": [
    "## Producer simulation\n",
    "\n",
    "- To be executed in Google Colab\n",
    "- Connect to GCLOUD\n",
    "- Fetch data from API (Carris, vehicles endpoint)\n",
    "- Copy data to GC bucket"
   ]
  },
  {
   "cell_type": "code",
   "execution_count": 2,
   "metadata": {
    "colab": {
     "base_uri": "https://localhost:8080/"
    },
    "id": "Z8fK3AR9Nier",
    "outputId": "523da3ae-4017-460e-dd96-32c33bd88725"
   },
   "outputs": [
    {
     "name": "stdout",
     "output_type": "stream",
     "text": [
      "Updated property [core/project].\n"
     ]
    }
   ],
   "source": [
    "from google.colab import auth\n",
    "auth.authenticate_user()\n",
    "\n",
    "project_id = 'data-eng-dev-437916'\n",
    "!gcloud config set project {project_id}"
   ]
  },
  {
   "cell_type": "code",
   "execution_count": 11,
   "metadata": {
    "id": "1t4XAECYPJrs"
   },
   "outputs": [],
   "source": [
    "!mkdir -p /content/temp/"
   ]
  },
  {
   "cell_type": "code",
   "execution_count": null,
   "metadata": {
    "colab": {
     "base_uri": "https://localhost:8080/"
    },
    "id": "1g-2SmOyNjYD",
    "outputId": "701e75ca-342b-49cb-e515-79ba5ffa4770"
   },
   "outputs": [
    {
     "name": "stdout",
     "output_type": "stream",
     "text": [
      "# Starting process #\n",
      "Landing path: gs://edit-data-eng-dev/datalake/landing/vehicles\n",
      "Producer running...0\n",
      "fetching data from https://api.carrismetropolitana.pt/vehicles...\n",
      "Writing into temp location...\n",
      "Copying file:///content/temp/vehicles_20241129141154.json [Content-Type=application/json]...\n",
      "-\n",
      "Operation completed over 1 objects/287.8 KiB.                                    \n",
      "Producer running...1\n",
      "fetching data from https://api.carrismetropolitana.pt/vehicles...\n",
      "Writing into temp location...\n",
      "Copying file:///content/temp/vehicles_20241129141229.json [Content-Type=application/json]...\n",
      "-\n",
      "Operation completed over 1 objects/287.8 KiB.                                    \n",
      "Producer running...2\n",
      "fetching data from https://api.carrismetropolitana.pt/vehicles...\n",
      "Writing into temp location...\n",
      "Copying file:///content/temp/vehicles_20241129141304.json [Content-Type=application/json]...\n",
      "-\n",
      "Operation completed over 1 objects/279.9 KiB.                                    \n",
      "Producer running...3\n",
      "fetching data from https://api.carrismetropolitana.pt/vehicles...\n",
      "Writing into temp location...\n",
      "Copying file:///content/temp/vehicles_20241129141340.json [Content-Type=application/json]...\n",
      "-\n",
      "Operation completed over 1 objects/279.8 KiB.                                    \n",
      "Producer running...4\n",
      "fetching data from https://api.carrismetropolitana.pt/vehicles...\n",
      "Writing into temp location...\n",
      "Copying file:///content/temp/vehicles_20241129141415.json [Content-Type=application/json]...\n",
      "-\n",
      "Operation completed over 1 objects/271.8 KiB.                                    \n",
      "Producer running...5\n",
      "fetching data from https://api.carrismetropolitana.pt/vehicles...\n",
      "Writing into temp location...\n",
      "Copying file:///content/temp/vehicles_20241129141450.json [Content-Type=application/json]...\n",
      "-\n",
      "Operation completed over 1 objects/279.8 KiB.                                    \n",
      "Producer running...6\n",
      "fetching data from https://api.carrismetropolitana.pt/vehicles...\n",
      "Writing into temp location...\n",
      "Copying file:///content/temp/vehicles_20241129141526.json [Content-Type=application/json]...\n",
      "-\n",
      "Operation completed over 1 objects/279.7 KiB.                                    \n",
      "Producer running...7\n",
      "fetching data from https://api.carrismetropolitana.pt/vehicles...\n",
      "Writing into temp location...\n",
      "Copying file:///content/temp/vehicles_20241129141601.json [Content-Type=application/json]...\n",
      "-\n",
      "Operation completed over 1 objects/279.8 KiB.                                    \n",
      "Producer running...8\n",
      "fetching data from https://api.carrismetropolitana.pt/vehicles...\n",
      "Writing into temp location...\n",
      "Copying file:///content/temp/vehicles_20241129141637.json [Content-Type=application/json]...\n",
      "-\n",
      "Operation completed over 1 objects/287.8 KiB.                                    \n",
      "Producer running...9\n",
      "fetching data from https://api.carrismetropolitana.pt/vehicles...\n",
      "Writing into temp location...\n",
      "Copying file:///content/temp/vehicles_20241129141712.json [Content-Type=application/json]...\n",
      "-\n",
      "Operation completed over 1 objects/279.8 KiB.                                    \n",
      "# Process done #\n"
     ]
    }
   ],
   "source": [
    "import requests\n",
    "from pyspark.sql.types import *\n",
    "import json\n",
    "import datetime\n",
    "import time\n",
    "\n",
    "def ingest_from_api(url: str, landing_path: str):\n",
    "    print(f\"fetching data from {url}...\")\n",
    "    response = requests.get(url)\n",
    "    timestamp = datetime.datetime.now().strftime(\"%Y%m%d%H%M%S\")\n",
    "    temp_file = f\"/content/temp/vehicles_{int(timestamp)}.json\"\n",
    "\n",
    "    if response.status_code == 200:\n",
    "        data = response.json()\n",
    "        with open(temp_file, \"w\") as f:\n",
    "            json.dump(data, f)\n",
    "            print(\"Writing into temp location...\")\n",
    "            !gsutil cp {temp_file} {landing_path}\n",
    "\n",
    "def producer_vehicles(loop: int, interval_time: int, landing_path: str):\n",
    "    for i in range(loop):\n",
    "        print(f\"Producer running...{i}\")\n",
    "        ingest_from_api(f\"https://api.carrismetropolitana.pt/vehicles\", landing_path)\n",
    "        time.sleep(interval_time)\n",
    "\n",
    "if __name__ == '__main__':\n",
    "  print(\"# Starting process #\")\n",
    "  bucket_name=\"edit-data-eng-dev\"\n",
    "  table=\"vehicles\"\n",
    "  landing_path=f\"gs://{bucket_name}/datalake/landing/{table}\"\n",
    "  print(f\"Landing path: {landing_path}\")\n",
    "  producer_vehicles(10, 30, landing_path)\n",
    "  print(\"# Process done #\")"
   ]
  }
 ],
 "metadata": {
  "colab": {
   "provenance": []
  },
  "kernelspec": {
   "display_name": "Python 3",
   "name": "python3"
  },
  "language_info": {
   "name": "python"
  }
 },
 "nbformat": 4,
 "nbformat_minor": 0
}
