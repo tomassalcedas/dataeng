{
  "nbformat": 4,
  "nbformat_minor": 0,
  "metadata": {
    "colab": {
      "provenance": [],
      "mount_file_id": "1axB1Y937jrLq1iDw-C3j-0v8EG2K9hB2",
      "authorship_tag": "ABX9TyMcQmhoZWgZyYHOIjOzN7ml",
      "include_colab_link": true
    },
    "kernelspec": {
      "name": "python3",
      "display_name": "Python 3"
    },
    "language_info": {
      "name": "python"
    }
  },
  "cells": [
    {
      "cell_type": "markdown",
      "metadata": {
        "id": "view-in-github",
        "colab_type": "text"
      },
      "source": [
        "<a href=\"https://colab.research.google.com/github/tomassalcedas/dataeng/blob/main/batch_processing_evaluation.ipynb\" target=\"_parent\"><img src=\"https://colab.research.google.com/assets/colab-badge.svg\" alt=\"Open In Colab\"/></a>"
      ]
    },
    {
      "cell_type": "code",
      "execution_count": 42,
      "metadata": {
        "id": "ydsLFvU_KigM"
      },
      "outputs": [],
      "source": [
        "import requests\n",
        "from pyspark.sql import SparkSession, DataFrame\n",
        "from pyspark.sql.types import *\n",
        "from pyspark.sql.functions import expr, col, explode, countDistinct, sum, avg"
      ]
    },
    {
      "cell_type": "code",
      "source": [
        "!mkdir -p /content/lake/bronze\n",
        "!mkdir -p /content/lake/silver\n",
        "!mkdir -p /content/lake/gold"
      ],
      "metadata": {
        "id": "rZYatRLuKj38"
      },
      "execution_count": 43,
      "outputs": []
    },
    {
      "cell_type": "code",
      "source": [
        "spark = SparkSession.builder.master(\"local\").appName(\"CarrisETL\").getOrCreate()"
      ],
      "metadata": {
        "id": "3VZtPPSIKnXR"
      },
      "execution_count": 44,
      "outputs": []
    },
    {
      "cell_type": "code",
      "source": [
        "def fetch_endpoint(endpoint: str, schema: StructType):\n",
        "    url = f\"https://api.carrismetropolitana.pt/{endpoint}\"\n",
        "    response = requests.get(url)\n",
        "    data = response.json()\n",
        "    return spark.read.schema(schema).json(spark.sparkContext.parallelize(data))"
      ],
      "metadata": {
        "id": "SbQ0rZNuKo5t"
      },
      "execution_count": 45,
      "outputs": []
    },
    {
      "cell_type": "code",
      "source": [
        "class ETLFlow:\n",
        "    def __init__(self, spark: SparkSession):\n",
        "        self.spark = spark\n",
        "\n",
        "    def extract_from_api(self, endpoint: str, schema: StructType):\n",
        "        return fetch_endpoint(endpoint, schema)\n",
        "\n",
        "    def load(self, df: DataFrame, format: str, path: str, partition_column: str = None):\n",
        "        writer = df.coalesce(1).write.mode(\"overwrite\").format(format)\n",
        "        if partition_column:\n",
        "            writer = writer.partitionBy(partition_column)\n",
        "        writer.save(path)"
      ],
      "metadata": {
        "id": "gHPLZZANKr4Q"
      },
      "execution_count": 46,
      "outputs": []
    },
    {
      "cell_type": "code",
      "source": [
        "class ETLTask(ETLFlow):\n",
        "    def ingestion_vehicles(self):\n",
        "        schema = StructType([\n",
        "            StructField(\"bearing\", IntegerType(), True),\n",
        "            StructField(\"block_id\", StringType(), True),\n",
        "            StructField(\"current_status\", StringType(), True),\n",
        "            StructField(\"id\", StringType(), True),\n",
        "            StructField(\"lat\", FloatType(), True),\n",
        "            StructField(\"line_id\", StringType(), True),\n",
        "            StructField(\"lon\", FloatType(), True),\n",
        "            StructField(\"pattern_id\", StringType(), True),\n",
        "            StructField(\"route_id\", StringType(), True),\n",
        "            StructField(\"schedule_relationship\", StringType(), True),\n",
        "            StructField(\"shift_id\", StringType(), True),\n",
        "            StructField(\"speed\", FloatType(), True),\n",
        "            StructField(\"stop_id\", StringType(), True),\n",
        "            StructField(\"timestamp\", LongType(), True),\n",
        "            StructField(\"trip_id\", StringType(), True)\n",
        "        ])\n",
        "        df = self.extract_from_api(\"vehicles\", schema)\n",
        "        df = df.withColumn(\"date\", expr(\"date(from_unixtime(timestamp))\"))\n",
        "        self.load(df, \"parquet\", \"/content/lake/bronze/vehicles\", partition_column=\"date\")\n",
        "\n",
        "    def ingestion_lines(self):\n",
        "        schema = StructType([\n",
        "            StructField(\"color\", StringType(), True),\n",
        "            StructField(\"facilities\", ArrayType(StringType()), True),\n",
        "            StructField(\"id\", StringType(), True),\n",
        "            StructField(\"localities\", ArrayType(StringType()), True),\n",
        "            StructField(\"long_name\", StringType(), True),\n",
        "            StructField(\"municipalities\", ArrayType(StringType()), True),\n",
        "            StructField(\"patterns\", ArrayType(StringType()), True),\n",
        "            StructField(\"routes\", ArrayType(StringType()), True),\n",
        "            StructField(\"short_name\", StringType(), True),\n",
        "            StructField(\"text_color\", StringType(), True)\n",
        "        ])\n",
        "        df = self.extract_from_api(\"lines\", schema)\n",
        "        self.load(df, \"parquet\", \"/content/lake/bronze/lines\")\n",
        "\n",
        "    def ingestion_municipalities(self):\n",
        "        schema = StructType([\n",
        "            StructField(\"district_id\", StringType(), True),\n",
        "            StructField(\"district_name\", StringType(), True),\n",
        "            StructField(\"id\", StringType(), True),\n",
        "            StructField(\"name\", StringType(), True),\n",
        "            StructField(\"prefix\", StringType(), True),\n",
        "            StructField(\"region_id\", StringType(), True),\n",
        "            StructField(\"region_name\", StringType(), True)\n",
        "        ])\n",
        "        df = self.extract_from_api(\"municipalities\", schema)\n",
        "        self.load(df, \"parquet\", \"/content/lake/bronze/municipalities\")\n",
        "\n",
        "    def transform_and_save_silver(self):\n",
        "        # VEHICLES\n",
        "        df_vehicles = self.spark.read.parquet(\"/content/lake/bronze/vehicles\")\n",
        "        df_vehicles_clean = (\n",
        "            df_vehicles\n",
        "            .withColumnRenamed(\"lat\", \"latitude\")\n",
        "            .withColumnRenamed(\"lon\", \"longitude\")\n",
        "            .dropDuplicates()\n",
        "            .filter(\"current_status IS NOT NULL\")\n",
        "        )\n",
        "        self.load(df_vehicles_clean, \"parquet\", \"/content/lake/silver/vehicles\", partition_column=\"date\")\n",
        "\n",
        "        # LINES\n",
        "        df_lines = self.spark.read.parquet(\"/content/lake/bronze/lines\")\n",
        "        df_lines_clean = (\n",
        "            df_lines\n",
        "            .dropDuplicates()\n",
        "            .filter(\"long_name IS NOT NULL\")\n",
        "        )\n",
        "        self.load(df_lines_clean, \"parquet\", \"/content/lake/silver/lines\")\n",
        "\n",
        "        # MUNICIPALITIES\n",
        "        df_municipalities = self.spark.read.parquet(\"/content/lake/bronze/municipalities\")\n",
        "        df_municipalities_clean = (\n",
        "            df_municipalities\n",
        "            .dropDuplicates()\n",
        "            .filter(\"name IS NOT NULL AND district_name IS NOT NULL\")\n",
        "        )\n",
        "        self.load(df_municipalities_clean, \"parquet\", \"/content/lake/silver/municipalities\")"
      ],
      "metadata": {
        "id": "cLNDBFJoKt5p"
      },
      "execution_count": 47,
      "outputs": []
    },
    {
      "cell_type": "code",
      "source": [
        "if __name__ == \"__main__\":\n",
        "    etl = ETLTask(spark)\n",
        "\n",
        "    print(\"📥 Ingesting vehicles...\")\n",
        "    etl.ingestion_vehicles()\n",
        "\n",
        "    print(\"📥 Ingesting lines...\")\n",
        "    etl.ingestion_lines()\n",
        "\n",
        "    print(\"📥 Ingesting municipalities...\")\n",
        "    etl.ingestion_municipalities()\n",
        "\n",
        "    print(\"✅ Bronze ingestion complete.\")"
      ],
      "metadata": {
        "colab": {
          "base_uri": "https://localhost:8080/"
        },
        "id": "a9vcLHgdKw0s",
        "outputId": "2098d0ef-eef8-4cc9-e802-996234b54b74"
      },
      "execution_count": 48,
      "outputs": [
        {
          "output_type": "stream",
          "name": "stdout",
          "text": [
            "📥 Ingesting vehicles...\n",
            "📥 Ingesting lines...\n",
            "📥 Ingesting municipalities...\n",
            "✅ Bronze ingestion complete.\n"
          ]
        }
      ]
    },
    {
      "cell_type": "code",
      "source": [
        "etl = ETLTask(spark)\n",
        "\n",
        "print(\"📥 Ingesting Bronze data...\")\n",
        "etl.ingestion_vehicles()\n",
        "etl.ingestion_lines()\n",
        "etl.ingestion_municipalities()\n",
        "\n",
        "print(\"✨ Transforming & writing Silver data...\")\n",
        "etl.transform_and_save_silver()\n",
        "\n",
        "print(\"✅ Bronze and Silver ETL complete.\")\n"
      ],
      "metadata": {
        "colab": {
          "base_uri": "https://localhost:8080/"
        },
        "id": "jh8A1h0XMtdB",
        "outputId": "3e59763b-c035-41e8-827e-6d753e2d9a62"
      },
      "execution_count": 49,
      "outputs": [
        {
          "output_type": "stream",
          "name": "stdout",
          "text": [
            "📥 Ingesting Bronze data...\n",
            "✨ Transforming & writing Silver data...\n",
            "✅ Bronze and Silver ETL complete.\n"
          ]
        }
      ]
    },
    {
      "cell_type": "code",
      "source": [
        "vehicles_schema = StructType([\n",
        "    StructField(\"bearing\", IntegerType(), True),\n",
        "    StructField(\"block_id\", StringType(), True),\n",
        "    StructField(\"current_status\", StringType(), True),\n",
        "    StructField(\"id\", StringType(), True),\n",
        "    StructField(\"latitude\", FloatType(), True),\n",
        "    StructField(\"line_id\", StringType(), True),\n",
        "    StructField(\"longitude\", FloatType(), True),\n",
        "    StructField(\"pattern_id\", StringType(), True),\n",
        "    StructField(\"route_id\", StringType(), True),\n",
        "    StructField(\"schedule_relationship\", StringType(), True),\n",
        "    StructField(\"shift_id\", StringType(), True),\n",
        "    StructField(\"speed\", FloatType(), True),\n",
        "    StructField(\"stop_id\", StringType(), True),\n",
        "    StructField(\"timestamp\", LongType(), True),\n",
        "    StructField(\"trip_id\", StringType(), True),\n",
        "    StructField(\"date\", DateType(), True)\n",
        "])\n",
        "\n",
        "lines_schema = StructType([\n",
        "    StructField(\"color\", StringType(), True),\n",
        "    StructField(\"facilities\", ArrayType(StringType()), True),\n",
        "    StructField(\"id\", StringType(), True),\n",
        "    StructField(\"localities\", ArrayType(StringType()), True),\n",
        "    StructField(\"long_name\", StringType(), True),\n",
        "    StructField(\"municipalities\", ArrayType(StringType()), True),\n",
        "    StructField(\"patterns\", ArrayType(StringType()), True),\n",
        "    StructField(\"routes\", ArrayType(StringType()), True),\n",
        "    StructField(\"short_name\", StringType(), True),\n",
        "    StructField(\"text_color\", StringType(), True)\n",
        "])\n",
        "\n",
        "municipalities_schema = StructType([\n",
        "    StructField(\"district_id\", StringType(), True),\n",
        "    StructField(\"district_name\", StringType(), True),\n",
        "    StructField(\"id\", StringType(), True),\n",
        "    StructField(\"name\", StringType(), True),\n",
        "    StructField(\"prefix\", StringType(), True),\n",
        "    StructField(\"region_id\", StringType(), True),\n",
        "    StructField(\"region_name\", StringType(), True)\n",
        "])\n"
      ],
      "metadata": {
        "id": "7DnEt4j5M1_X"
      },
      "execution_count": 50,
      "outputs": []
    },
    {
      "cell_type": "code",
      "source": [
        "vehicles_df = spark.read.schema(vehicles_schema).parquet(\"/content/lake/silver/vehicles\")\n",
        "lines_df = spark.read.schema(lines_schema).parquet(\"/content/lake/silver/lines\")\n",
        "municipalities_df = spark.read.schema(municipalities_schema).parquet(\"/content/lake/silver/municipalities\")"
      ],
      "metadata": {
        "id": "eOT5K8GiOFrS"
      },
      "execution_count": 51,
      "outputs": []
    },
    {
      "cell_type": "code",
      "source": [
        "# Join vehicles with lines (line_id → id)\n",
        "vehicles_lines_df = vehicles_df.join(\n",
        "    lines_df.select(col(\"id\").alias(\"line_id_join\"), col(\"long_name\"), col(\"municipalities\")),\n",
        "    vehicles_df.line_id == col(\"line_id_join\"),\n",
        "    how=\"left\"\n",
        ")\n",
        "\n",
        "# Explode municipalities list to prepare for join\n",
        "vehicles_lines_df = vehicles_lines_df.withColumn(\"municipality_id\", explode(\"municipalities\"))\n",
        "\n",
        "# Join with municipalities (municipality_id → id)\n",
        "vehicles_enriched_df = vehicles_lines_df.join(\n",
        "    municipalities_df.select(col(\"id\").alias(\"municipality_id_join\"), col(\"name\").alias(\"municipality_name\")),\n",
        "    vehicles_lines_df.municipality_id == col(\"municipality_id_join\"),\n",
        "    how=\"left\"\n",
        ")\n",
        "\n",
        "# Select required columns\n",
        "vehicles_enriched_df = vehicles_enriched_df.select(\n",
        "    \"bearing\", \"block_id\", \"current_status\", \"id\", \"latitude\", \"line_id\", \"longitude\",\n",
        "    \"pattern_id\", \"route_id\", \"schedule_relationship\", \"shift_id\", \"speed\",\n",
        "    \"stop_id\", \"timestamp\", \"trip_id\", \"date\",\n",
        "    col(\"long_name\").alias(\"line_name\"),\n",
        "    col(\"municipality_name\")\n",
        ")"
      ],
      "metadata": {
        "id": "tJ6mDX3PORW7"
      },
      "execution_count": 52,
      "outputs": []
    },
    {
      "cell_type": "code",
      "source": [
        "vehicles_enriched_df.coalesce(1).write \\\n",
        "    .mode(\"overwrite\") \\\n",
        "    .partitionBy(\"date\") \\\n",
        "    .parquet(\"/content/lake/gold/vehicles_enriched\")"
      ],
      "metadata": {
        "id": "1jHEEBTJOdPt"
      },
      "execution_count": 53,
      "outputs": []
    },
    {
      "cell_type": "code",
      "source": [
        "vehicles_enriched_df = spark.read.parquet(\"/content/lake/gold/vehicles_enriched\")"
      ],
      "metadata": {
        "id": "eirSWvHpO9ON"
      },
      "execution_count": 54,
      "outputs": []
    },
    {
      "cell_type": "code",
      "source": [
        "aggregated_df = vehicles_enriched_df.groupBy(\"municipality_name\").agg(\n",
        "    countDistinct(\"id\").alias(\"vehicle_count\"),\n",
        "    sum(\"speed\").alias(\"total_speed\"),\n",
        "    avg(\"speed\").alias(\"average_speed\")\n",
        ")"
      ],
      "metadata": {
        "id": "C73T2FSTP-9y"
      },
      "execution_count": 55,
      "outputs": []
    },
    {
      "cell_type": "code",
      "source": [
        "aggregated_df.orderBy(col(\"vehicle_count\").desc()).show(3)"
      ],
      "metadata": {
        "colab": {
          "base_uri": "https://localhost:8080/"
        },
        "id": "-IM6W-kdRhg5",
        "outputId": "b5366c34-c9eb-45b3-ce27-4d04b9b1768f"
      },
      "execution_count": 56,
      "outputs": [
        {
          "output_type": "stream",
          "name": "stdout",
          "text": [
            "+-----------------+-------------+-----------------+-----------------+\n",
            "|municipality_name|vehicle_count|      total_speed|    average_speed|\n",
            "+-----------------+-------------+-----------------+-----------------+\n",
            "|           Lisboa|          138|952.2222249507904|6.900161050368046|\n",
            "|           Sintra|          117|599.7222203612328|  5.1258309432584|\n",
            "|           Loures|           83|576.1111133098602|6.941097750721208|\n",
            "+-----------------+-------------+-----------------+-----------------+\n",
            "only showing top 3 rows\n",
            "\n"
          ]
        }
      ]
    },
    {
      "cell_type": "code",
      "source": [
        "aggregated_df.orderBy(col(\"average_speed\").desc()).show(3)"
      ],
      "metadata": {
        "colab": {
          "base_uri": "https://localhost:8080/"
        },
        "id": "uP8YXLHERlBO",
        "outputId": "ac6d7a43-f64a-404a-99ce-247b759c9bfe"
      },
      "execution_count": 57,
      "outputs": [
        {
          "output_type": "stream",
          "name": "stdout",
          "text": [
            "+-----------------+-------------+------------------+-----------------+\n",
            "|municipality_name|vehicle_count|       total_speed|    average_speed|\n",
            "+-----------------+-------------+------------------+-----------------+\n",
            "|          Montijo|           21| 173.8888885974884|8.280423266547066|\n",
            "|            Moita|           14|114.16666531562805|8.154761808259147|\n",
            "|        Alcochete|           16|116.94444584846497| 7.30902786552906|\n",
            "+-----------------+-------------+------------------+-----------------+\n",
            "only showing top 3 rows\n",
            "\n"
          ]
        }
      ]
    }
  ]
}